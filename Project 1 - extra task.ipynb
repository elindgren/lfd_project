{
 "cells": [
  {
   "cell_type": "code",
   "execution_count": 1,
   "metadata": {},
   "outputs": [],
   "source": [
    "# imports\n",
    "import sys\n",
    "import numpy as np\n",
    "import matplotlib.pyplot as plt\n",
    "import emcee \n",
    "import pandas as pd\n",
    "from time import time\n",
    "from tqdm import tqdm_notebook"
   ]
  },
  {
   "cell_type": "markdown",
   "metadata": {},
   "source": [
    "## Task c: Reproduce Table III"
   ]
  },
  {
   "cell_type": "markdown",
   "metadata": {},
   "source": [
    "We want to sample our parameter space for our features $\\{a\\}$, for different values of $k$ and $k_{max}$, using both our uniform and naturaleness priors as defined in the basic tasks. However, the main difference is that we need to marginalize out the extra parameters for higher values of $k_{max}$. "
   ]
  },
  {
   "cell_type": "code",
   "execution_count": 2,
   "metadata": {},
   "outputs": [],
   "source": [
    "# Define a modular model that generates features up to k_max: however we \n",
    "# then marginalize all larger k. \n",
    "def modular_model(a, x, kmax):\n",
    "    '''\n",
    "    Returns model of order kmax. a is a vector containing the model features.\n",
    "    Note the kmax+1 in the for loop. This is due to range being from 0 to\n",
    "    kmax-1.\n",
    "    '''\n",
    "    model = 0\n",
    "    for k in range(kmax+1):\n",
    "        model += a[k]*x**k\n",
    "    return model"
   ]
  },
  {
   "cell_type": "markdown",
   "metadata": {},
   "source": [
    "$\\chi^2/\\text{dof}$ means the value of $\\chi^2$ per degree of freedom. "
   ]
  },
  {
   "cell_type": "markdown",
   "metadata": {},
   "source": [
    "Copy most of the code from the basic part."
   ]
  },
  {
   "cell_type": "code",
   "execution_count": 3,
   "metadata": {},
   "outputs": [
    {
     "data": {
      "text/plain": [
       "{'x': array([0.03183, 0.06366, 0.09549, 0.12732, 0.15915, 0.19099, 0.22282,\n",
       "        0.25465, 0.28648, 0.31831]),\n",
       " 'd': array([0.31694, 0.33844, 0.42142, 0.57709, 0.56218, 0.68851, 0.73625,\n",
       "        0.8727 , 1.0015 , 1.0684 ]),\n",
       " 'sigma': array([0.01585 , 0.01692 , 0.02107 , 0.02885 , 0.02811 , 0.03443 ,\n",
       "        0.03681 , 0.04364 , 0.050075, 0.05342 ])}"
      ]
     },
     "metadata": {},
     "output_type": "display_data"
    }
   ],
   "source": [
    "# Load dataset\n",
    "def load_data(file):\n",
    "    d = {\n",
    "        \"x\": [],\n",
    "        \"d\": [],\n",
    "        \"sigma\": []\n",
    "    }\n",
    "    # Skip first two rows, which are the header:\n",
    "    with open(file) as f:\n",
    "        for idx,line in enumerate(f):\n",
    "            if idx < 3:\n",
    "                pass\n",
    "            else:\n",
    "                val = line.split()\n",
    "                d[\"x\"].append(np.float(val[0]))\n",
    "                d[\"d\"].append(np.float(val[1]))\n",
    "                d[\"sigma\"].append(np.float(val[2]))\n",
    "    # cast to numpy arrays\n",
    "    d[\"x\"] = np.array(d[\"x\"])\n",
    "    d[\"d\"] = np.array(d[\"d\"])\n",
    "    d[\"sigma\"] = np.array(d[\"sigma\"])\n",
    "    return d\n",
    "\n",
    "\n",
    "file = 'D1_c_5.dat'\n",
    "data = load_data(file)\n",
    "display(data)"
   ]
  },
  {
   "cell_type": "code",
   "execution_count": 36,
   "metadata": {},
   "outputs": [
    {
     "name": "stdout",
     "output_type": "stream",
     "text": [
      "True\n",
      "False\n",
      "True\n"
     ]
    }
   ],
   "source": [
    "def log_uniform_prior(a):\n",
    "    '''\n",
    "    Uniform prior, returns a log(1) if the values in a are in abs(a)<100. Note that this\n",
    "    prior is not normalized. We take care of this later.\n",
    "    '''\n",
    "    return 0\n",
    "\n",
    "def log_naturaleness_prior(a, bar_a=5):\n",
    "    '''Naturaleness prior implemented according to equation 24 with bar(a)=5. This ensures'''\n",
    "    return -len(a)*np.log(np.sqrt(2*np.pi)*bar_a) - 1/2*(a.dot(a)/bar_a**2)\n",
    "\n",
    "# Tests \n",
    "print(0 == log_uniform_prior([-1,2,50]))\n",
    "print(-np.inf == log_uniform_prior([-1,2,500]))\n",
    "print(-7.8651 == np.round(np.log((1/(np.sqrt(2*np.pi)*5))**3 * np.exp(-(1+4+9)/(2*5**2))),4) == np.round(log_naturaleness_prior(np.array([1,2,3]), 5),4))  # Calculate expression exact and log"
   ]
  },
  {
   "cell_type": "code",
   "execution_count": 37,
   "metadata": {},
   "outputs": [
    {
     "name": "stdout",
     "output_type": "stream",
     "text": [
      "[0.01585  0.01692  0.02107  0.02885  0.02811  0.03443  0.03681  0.04364\n",
      " 0.050075 0.05342 ]\n"
     ]
    }
   ],
   "source": [
    "print(sigmas)"
   ]
  },
  {
   "cell_type": "code",
   "execution_count": 38,
   "metadata": {},
   "outputs": [
    {
     "name": "stdout",
     "output_type": "stream",
     "text": [
      "Model kmax=3: [ True  True]\n",
      "chi_squared: True\n",
      "log likelihood: True\n",
      "Model kmax=6: [ True  True]\n"
     ]
    }
   ],
   "source": [
    "def chi_squared(a, d, x, sigmas, kmax):\n",
    "    '''\n",
    "    Returns the chi squared measure for the datapoints d and x. The standard deviation is \n",
    "    assumed to be constant for all datapoints.\n",
    "    '''\n",
    "    chi_vec = (d-modular_model(a, x, kmax))/sigmas\n",
    "    return np.sum(chi_vec**2)\n",
    "\n",
    "\n",
    "def log_likelihood(a, d, x, sigmas, kmax):\n",
    "    '''\n",
    "    Returns log likelihood based on a Gaussian with di as the center values and \n",
    "    a standard deviation of sigma. a is the feature vector for our model.\n",
    "    '''\n",
    "    chi_sq = chi_squared(a, d, x, sigmas, kmax)\n",
    "    like = -np.sum(np.log(np.sqrt(2*np.pi)*sigmas)) - 1/2*chi_sq\n",
    "    return like\n",
    "\n",
    "\n",
    "# Tests\n",
    "a = np.array([1,2,3,4])\n",
    "x = np.array([1,2])\n",
    "d = np.array([2,4])\n",
    "sigmas = np.array([2,4])\n",
    "kmax = len(a)-1  # Sanity check that the model still works in the basic task case\n",
    "print(f'Model kmax={kmax}: {[10, 49] == modular_model(a,x, kmax)}')\n",
    "print(f'chi_squared: {142.5625==chi_squared(a,d,x,sigmas, kmax)}')\n",
    "exact_likelihood = np.prod(1/(np.sqrt(2*np.pi)*sigmas)) * np.exp(-chi_squared(a,d,x,sigmas, kmax)/2)\n",
    "print(f'log likelihood: {np.round(np.log(exact_likelihood),4) == np.round(log_likelihood(a, d, x, sigmas, kmax),4)}')  # exact calculation, and then log\n",
    "# Also test in kmax = 6 case\n",
    "a = np.array([1,2,3,4,5,6,7])\n",
    "kmax = 6\n",
    "print(f'Model kmax={kmax}: {[28, 769] == modular_model(a, x, kmax)}')"
   ]
  },
  {
   "cell_type": "markdown",
   "metadata": {},
   "source": [
    "#### Ok our new model passes this sanity check. All of our tests from the basic problem returns ok with the new modular model."
   ]
  },
  {
   "cell_type": "code",
   "execution_count": 39,
   "metadata": {},
   "outputs": [],
   "source": [
    "def log_post_uniform(a,d,x,sigma, kmax):\n",
    "    return log_likelihood(a,d,x,sigma,kmax) + log_uniform_prior(a)\n",
    "\n",
    "\n",
    "def log_post_natural(a,d,x,sigma, kmax, bar_a):\n",
    "    return log_likelihood(a,d,x,sigma,kmax) + log_naturaleness_prior(a, bar_a=bar_a)"
   ]
  },
  {
   "cell_type": "code",
   "execution_count": 40,
   "metadata": {},
   "outputs": [
    {
     "data": {
      "application/vnd.jupyter.widget-view+json": {
       "model_id": "1a7db330daeb4d8fa595596a58c6cfa4",
       "version_major": 2,
       "version_minor": 0
      },
      "text/plain": [
       "HBox(children=(IntProgress(value=0, max=7), HTML(value='')))"
      ]
     },
     "metadata": {},
     "output_type": "display_data"
    },
    {
     "name": "stdout",
     "output_type": "stream",
     "text": [
      "kmax: 0, k: 0\n",
      "Sampling time: 1.835582971572876 seconds.\n",
      "\n",
      "kmax: 1, k: 1\n",
      "Sampling time: 3.0411593914031982 seconds.\n",
      "\n",
      "kmax: 2, k: 2\n",
      "Sampling time: 3.53200626373291 seconds.\n",
      "\n",
      "kmax: 3, k: 2\n",
      "Sampling time: 4.638889312744141 seconds.\n",
      "\n",
      "kmax: 4, k: 2\n",
      "Sampling time: 5.54177451133728 seconds.\n",
      "\n",
      "kmax: 5, k: 2\n",
      "Sampling time: 7.051882266998291 seconds.\n",
      "\n",
      "kmax: 6, k: 2\n",
      "Sampling time: 8.64901089668274 seconds.\n",
      "\n",
      "\n"
     ]
    }
   ],
   "source": [
    "# Sampling\n",
    "\n",
    "# Define constants and data\n",
    "bar_a = 5\n",
    "x = data[\"x\"]\n",
    "d = data[\"d\"]\n",
    "sigmas = data[\"sigma\"]\n",
    "kmaxs = [i for i in range(0,6+1)]  # 0,1,2,3,4,5,6\n",
    "samples_dict = {}  # Define dict to save samples in\n",
    "for kmax in tqdm_notebook(kmaxs):\n",
    "    samples_dict[kmax] = {}\n",
    "    k = min(kmax,2)  # k+1 is the numbers of relevant features, so our model is at most of degree 2.\n",
    "    samples_dict[kmax][\"k\"] = k\n",
    "    print(f'kmax: {kmax}, k: {k}')\n",
    "    \n",
    "    # Define dimensions and walkers\n",
    "    ndim = kmax+1  # 0,1,...,kmax\n",
    "    nwalkers = ndim*2\n",
    "    # Initial guess\n",
    "    p0 = np.random.rand(ndim * nwalkers).reshape((nwalkers, ndim))\n",
    "\n",
    "\n",
    "    nburn = 200  # nbr of burning steps\n",
    "    nsamples = 2000  # nbr of final samples \n",
    "\n",
    "    # additional arguments to our sampler: d, x, sigma and d,x,sigma, bar_a respectively\n",
    "    arglist_uniform = (d, x, sigmas, kmax)\n",
    "    arglist_natural = (d, x, sigmas, kmax, bar_a)\n",
    "\n",
    "    # Define samplers\n",
    "    sampler_uniform = emcee.EnsembleSampler(nwalkers, ndim, log_post_uniform, args=arglist_uniform)\n",
    "    sampler_natural = emcee.EnsembleSampler(nwalkers, ndim, log_post_natural, args=arglist_natural)\n",
    "    # Start sampler on posteriors. Use first few hundred iterations as burn in. \n",
    "    t0 = time()  # start time\n",
    "    sampler_uniform.run_mcmc(p0, nburn + nsamples)\n",
    "    sampler_natural.run_mcmc(p0, nburn + nsamples)\n",
    "    t1 = time()  # end time\n",
    "    print(f'Sampling time: {t1-t0} seconds.')\n",
    "    print()\n",
    "    \n",
    "    samples_uniform = sampler_uniform.chain[:,nburn:,:].reshape((-1,ndim))  # reshape to all samples per dim\n",
    "    samples_natural = sampler_natural.chain[:,nburn:,:].reshape((-1,ndim)) \n",
    "    \n",
    "    # Save samples\n",
    "    samples_dict[kmax][\"Uniform\"] = samples_uniform\n",
    "    samples_dict[kmax][\"Natural\"] = samples_natural"
   ]
  },
  {
   "cell_type": "markdown",
   "metadata": {},
   "source": [
    "Now, marginalize out all features higher than order k=2, and compute the mean for our feature. We just do this by ignoring the other data corresponding to the higher features, since we are just interested in the number of times that we \"land\" on our relevant features anyway.\n",
    "\n",
    "We show central values and 68% confidence interval: mean +- 1 std for the Gaussian posterior."
   ]
  },
  {
   "cell_type": "code",
   "execution_count": 41,
   "metadata": {},
   "outputs": [
    {
     "ename": "TypeError",
     "evalue": "calculate_feature_estimates() got multiple values for argument 'k'",
     "output_type": "error",
     "traceback": [
      "\u001b[1;31m---------------------------------------------------------------------------\u001b[0m",
      "\u001b[1;31mTypeError\u001b[0m                                 Traceback (most recent call last)",
      "\u001b[1;32m<ipython-input-41-d5d231af1eb9>\u001b[0m in \u001b[0;36m<module>\u001b[1;34m\u001b[0m\n\u001b[1;32m----> 1\u001b[1;33m \u001b[0mmeasure\u001b[0m\u001b[1;33m,\u001b[0m \u001b[0ma_mean\u001b[0m\u001b[1;33m,\u001b[0m \u001b[0ma_std\u001b[0m \u001b[1;33m=\u001b[0m \u001b[0mcalculate_feature_estimates\u001b[0m\u001b[1;33m(\u001b[0m\u001b[0msamples_natural\u001b[0m\u001b[1;33m,\u001b[0m \u001b[0msampler_natural\u001b[0m\u001b[1;33m,\u001b[0m \u001b[1;34m'Natural'\u001b[0m\u001b[1;33m,\u001b[0m \u001b[0mk\u001b[0m\u001b[1;33m=\u001b[0m\u001b[1;36m2\u001b[0m\u001b[1;33m,\u001b[0m \u001b[0mkmax\u001b[0m\u001b[1;33m=\u001b[0m\u001b[1;36m2\u001b[0m\u001b[1;33m)\u001b[0m\u001b[1;33m\u001b[0m\u001b[1;33m\u001b[0m\u001b[0m\n\u001b[0m\u001b[0;32m      2\u001b[0m \u001b[0mprint\u001b[0m\u001b[1;33m(\u001b[0m\u001b[0mmeasure\u001b[0m\u001b[1;33m)\u001b[0m\u001b[1;33m\u001b[0m\u001b[1;33m\u001b[0m\u001b[0m\n",
      "\u001b[1;31mTypeError\u001b[0m: calculate_feature_estimates() got multiple values for argument 'k'"
     ]
    }
   ],
   "source": [
    "measure, a_mean, a_std = calculate_feature_estimates(samples_natural, sampler_natural, 'Natural', k=2, kmax=2)\n",
    "print(measure)"
   ]
  },
  {
   "cell_type": "code",
   "execution_count": 65,
   "metadata": {
    "scrolled": true
   },
   "outputs": [
    {
     "name": "stdout",
     "output_type": "stream",
     "text": [
      "kmax = 0\n"
     ]
    },
    {
     "data": {
      "application/vnd.jupyter.widget-view+json": {
       "model_id": "d6b6459bcd7f418a95d8977652d3a868",
       "version_major": 2,
       "version_minor": 0
      },
      "text/plain": [
       "HBox(children=(IntProgress(value=0, max=4000), HTML(value='')))"
      ]
     },
     "metadata": {},
     "output_type": "display_data"
    },
    {
     "name": "stdout",
     "output_type": "stream",
     "text": [
      "\n",
      "Standard deviation in chi^2/dof for kmax=0: sigma = 0.14822583778353451\n",
      "Post: 1.0056777687350015e-120\n",
      "factor 1: 1.0056777687350015e-120\n",
      "factor 2: 0.02167238945851618\n",
      "kmax = 1\n"
     ]
    },
    {
     "data": {
      "application/vnd.jupyter.widget-view+json": {
       "model_id": "025470d9b30c4c39ac35353237a1ff67",
       "version_major": 2,
       "version_minor": 0
      },
      "text/plain": [
       "HBox(children=(IntProgress(value=0, max=8000), HTML(value='')))"
      ]
     },
     "metadata": {},
     "output_type": "display_data"
    },
    {
     "name": "stdout",
     "output_type": "stream",
     "text": [
      "\n",
      "Standard deviation in chi^2/dof for kmax=1: sigma = 0.2553026435983158\n",
      "Post: 110347.40923455714\n",
      "factor 1: 110347.40923455714\n",
      "factor 2: 0.005046854788414243\n",
      "kmax = 2\n"
     ]
    },
    {
     "data": {
      "application/vnd.jupyter.widget-view+json": {
       "model_id": "d2a5b37e8760482685df8be677284daa",
       "version_major": 2,
       "version_minor": 0
      },
      "text/plain": [
       "HBox(children=(IntProgress(value=0, max=12000), HTML(value='')))"
      ]
     },
     "metadata": {},
     "output_type": "display_data"
    },
    {
     "name": "stdout",
     "output_type": "stream",
     "text": [
      "\n",
      "Standard deviation in chi^2/dof for kmax=2: sigma = 0.35640142190458896\n",
      "Post: 188696.62993166316\n",
      "factor 1: 188696.62993166316\n",
      "factor 2: 0.017165245741996227\n",
      "kmax = 3\n"
     ]
    },
    {
     "data": {
      "application/vnd.jupyter.widget-view+json": {
       "model_id": "a0633a0a9ecb4bdd9c053600b0faf1d8",
       "version_major": 2,
       "version_minor": 0
      },
      "text/plain": [
       "HBox(children=(IntProgress(value=0, max=16000), HTML(value='')))"
      ]
     },
     "metadata": {},
     "output_type": "display_data"
    },
    {
     "name": "stdout",
     "output_type": "stream",
     "text": [
      "\n",
      "Standard deviation in chi^2/dof for kmax=3: sigma = 0.41087385360221673\n",
      "Post: 15104.135857388957\n",
      "factor 1: 15104.135857388957\n",
      "factor 2: 0.19635529471594754\n",
      "kmax = 4\n"
     ]
    },
    {
     "data": {
      "application/vnd.jupyter.widget-view+json": {
       "model_id": "fd14e0e25f114caa91ad9b588f4d088f",
       "version_major": 2,
       "version_minor": 0
      },
      "text/plain": [
       "HBox(children=(IntProgress(value=0, max=20000), HTML(value='')))"
      ]
     },
     "metadata": {},
     "output_type": "display_data"
    },
    {
     "name": "stdout",
     "output_type": "stream",
     "text": [
      "\n",
      "Standard deviation in chi^2/dof for kmax=4: sigma = 0.46144961256717015\n",
      "Post: 1204.98299361873\n",
      "factor 1: 1204.98299361873\n",
      "factor 2: 2.2104693720780464\n",
      "kmax = 5\n"
     ]
    },
    {
     "data": {
      "application/vnd.jupyter.widget-view+json": {
       "model_id": "149a8c65638e43d29d5a1114742a35b3",
       "version_major": 2,
       "version_minor": 0
      },
      "text/plain": [
       "HBox(children=(IntProgress(value=0, max=24000), HTML(value='')))"
      ]
     },
     "metadata": {},
     "output_type": "display_data"
    },
    {
     "name": "stdout",
     "output_type": "stream",
     "text": [
      "\n",
      "Standard deviation in chi^2/dof for kmax=5: sigma = 0.5485733137285534\n",
      "Post: 95.53032664043089\n",
      "factor 1: 95.53032664043089\n",
      "factor 2: 27.144200243040853\n",
      "kmax = 6\n"
     ]
    },
    {
     "data": {
      "application/vnd.jupyter.widget-view+json": {
       "model_id": "64e8655fccf1443da23c2db5b7b41dba",
       "version_major": 2,
       "version_minor": 0
      },
      "text/plain": [
       "HBox(children=(IntProgress(value=0, max=28000), HTML(value='')))"
      ]
     },
     "metadata": {},
     "output_type": "display_data"
    },
    {
     "name": "stdout",
     "output_type": "stream",
     "text": [
      "\n",
      "Standard deviation in chi^2/dof for kmax=6: sigma = 0.5490259793241131\n",
      "Post: 7.639280989575368\n",
      "factor 1: 7.639280989575368\n",
      "factor 2: 350.43175226130575\n",
      "******** Uniform ********\n"
     ]
    },
    {
     "data": {
      "text/html": [
       "<div>\n",
       "<style scoped>\n",
       "    .dataframe tbody tr th:only-of-type {\n",
       "        vertical-align: middle;\n",
       "    }\n",
       "\n",
       "    .dataframe tbody tr th {\n",
       "        vertical-align: top;\n",
       "    }\n",
       "\n",
       "    .dataframe thead th {\n",
       "        text-align: right;\n",
       "    }\n",
       "</style>\n",
       "<table border=\"1\" class=\"dataframe\">\n",
       "  <thead>\n",
       "    <tr style=\"text-align: right;\">\n",
       "      <th></th>\n",
       "      <th>k</th>\n",
       "      <th>kmax</th>\n",
       "      <th>measure</th>\n",
       "      <th>a0</th>\n",
       "      <th>a1</th>\n",
       "      <th>a2</th>\n",
       "    </tr>\n",
       "  </thead>\n",
       "  <tbody>\n",
       "    <tr>\n",
       "      <td>0</td>\n",
       "      <td>0</td>\n",
       "      <td>0</td>\n",
       "      <td>66.67</td>\n",
       "      <td>0.48 +- 0.01</td>\n",
       "      <td></td>\n",
       "      <td></td>\n",
       "    </tr>\n",
       "    <tr>\n",
       "      <td>1</td>\n",
       "      <td>1</td>\n",
       "      <td>1</td>\n",
       "      <td>2.5</td>\n",
       "      <td>0.2 +- 0.02</td>\n",
       "      <td>2.56 +- 0.11</td>\n",
       "      <td></td>\n",
       "    </tr>\n",
       "    <tr>\n",
       "      <td>2</td>\n",
       "      <td>2</td>\n",
       "      <td>2</td>\n",
       "      <td>2.09</td>\n",
       "      <td>0.25 +- 0.02</td>\n",
       "      <td>1.52 +- 0.4</td>\n",
       "      <td>3.49 +- 1.31</td>\n",
       "    </tr>\n",
       "    <tr>\n",
       "      <td>3</td>\n",
       "      <td>2</td>\n",
       "      <td>3</td>\n",
       "      <td>2.16</td>\n",
       "      <td>0.26 +- 0.04</td>\n",
       "      <td>1.18 +- 1.08</td>\n",
       "      <td>6.49 +- 8.0</td>\n",
       "    </tr>\n",
       "    <tr>\n",
       "      <td>4</td>\n",
       "      <td>2</td>\n",
       "      <td>4</td>\n",
       "      <td>2.13</td>\n",
       "      <td>0.33 +- 0.06</td>\n",
       "      <td>-1.66 +- 2.59</td>\n",
       "      <td>42.56 +- 31.83</td>\n",
       "    </tr>\n",
       "    <tr>\n",
       "      <td>5</td>\n",
       "      <td>2</td>\n",
       "      <td>5</td>\n",
       "      <td>1.78</td>\n",
       "      <td>0.52 +- 0.16</td>\n",
       "      <td>-12.42 +- 8.17</td>\n",
       "      <td>232.27 +- 139.89</td>\n",
       "    </tr>\n",
       "    <tr>\n",
       "      <td>6</td>\n",
       "      <td>2</td>\n",
       "      <td>6</td>\n",
       "      <td>1.84</td>\n",
       "      <td>0.53 +- 0.25</td>\n",
       "      <td>-12.62 +- 15.49</td>\n",
       "      <td>236.29 +- 334.71</td>\n",
       "    </tr>\n",
       "  </tbody>\n",
       "</table>\n",
       "</div>"
      ],
      "text/plain": [
       "   k  kmax measure            a0               a1                a2\n",
       "0  0     0   66.67  0.48 +- 0.01                                   \n",
       "1  1     1     2.5   0.2 +- 0.02     2.56 +- 0.11                  \n",
       "2  2     2    2.09  0.25 +- 0.02      1.52 +- 0.4      3.49 +- 1.31\n",
       "3  2     3    2.16  0.26 +- 0.04     1.18 +- 1.08       6.49 +- 8.0\n",
       "4  2     4    2.13  0.33 +- 0.06    -1.66 +- 2.59    42.56 +- 31.83\n",
       "5  2     5    1.78  0.52 +- 0.16   -12.42 +- 8.17  232.27 +- 139.89\n",
       "6  2     6    1.84  0.53 +- 0.25  -12.62 +- 15.49  236.29 +- 334.71"
      ]
     },
     "metadata": {},
     "output_type": "display_data"
    },
    {
     "name": "stdout",
     "output_type": "stream",
     "text": [
      "******** Natural ********\n"
     ]
    },
    {
     "data": {
      "text/html": [
       "<div>\n",
       "<style scoped>\n",
       "    .dataframe tbody tr th:only-of-type {\n",
       "        vertical-align: middle;\n",
       "    }\n",
       "\n",
       "    .dataframe tbody tr th {\n",
       "        vertical-align: top;\n",
       "    }\n",
       "\n",
       "    .dataframe thead th {\n",
       "        text-align: right;\n",
       "    }\n",
       "</style>\n",
       "<table border=\"1\" class=\"dataframe\">\n",
       "  <thead>\n",
       "    <tr style=\"text-align: right;\">\n",
       "      <th></th>\n",
       "      <th>k</th>\n",
       "      <th>kmax</th>\n",
       "      <th>measure</th>\n",
       "      <th>a0</th>\n",
       "      <th>a1</th>\n",
       "      <th>a2</th>\n",
       "    </tr>\n",
       "  </thead>\n",
       "  <tbody>\n",
       "    <tr>\n",
       "      <td>0</td>\n",
       "      <td>0</td>\n",
       "      <td>0</td>\n",
       "      <td>0.0</td>\n",
       "      <td>0.47 +- 0.01</td>\n",
       "      <td></td>\n",
       "      <td></td>\n",
       "    </tr>\n",
       "    <tr>\n",
       "      <td>1</td>\n",
       "      <td>1</td>\n",
       "      <td>1</td>\n",
       "      <td>556.91</td>\n",
       "      <td>0.2 +- 0.01</td>\n",
       "      <td>2.55 +- 0.1</td>\n",
       "      <td></td>\n",
       "    </tr>\n",
       "    <tr>\n",
       "      <td>2</td>\n",
       "      <td>2</td>\n",
       "      <td>2</td>\n",
       "      <td>3239.02</td>\n",
       "      <td>0.25 +- 0.02</td>\n",
       "      <td>1.64 +- 0.39</td>\n",
       "      <td>3.11 +- 1.25</td>\n",
       "    </tr>\n",
       "    <tr>\n",
       "      <td>3</td>\n",
       "      <td>2</td>\n",
       "      <td>3</td>\n",
       "      <td>2965.78</td>\n",
       "      <td>0.25 +- 0.02</td>\n",
       "      <td>1.66 +- 0.46</td>\n",
       "      <td>2.92 +- 2.38</td>\n",
       "    </tr>\n",
       "    <tr>\n",
       "      <td>4</td>\n",
       "      <td>2</td>\n",
       "      <td>4</td>\n",
       "      <td>2663.58</td>\n",
       "      <td>0.25 +- 0.02</td>\n",
       "      <td>1.64 +- 0.45</td>\n",
       "      <td>2.97 +- 2.35</td>\n",
       "    </tr>\n",
       "    <tr>\n",
       "      <td>5</td>\n",
       "      <td>2</td>\n",
       "      <td>5</td>\n",
       "      <td>2593.09</td>\n",
       "      <td>0.25 +- 0.02</td>\n",
       "      <td>1.64 +- 0.46</td>\n",
       "      <td>2.89 +- 2.36</td>\n",
       "    </tr>\n",
       "    <tr>\n",
       "      <td>6</td>\n",
       "      <td>2</td>\n",
       "      <td>6</td>\n",
       "      <td>2677.05</td>\n",
       "      <td>0.25 +- 0.02</td>\n",
       "      <td>1.62 +- 0.48</td>\n",
       "      <td>3.16 +- 2.36</td>\n",
       "    </tr>\n",
       "  </tbody>\n",
       "</table>\n",
       "</div>"
      ],
      "text/plain": [
       "   k  kmax  measure            a0            a1            a2\n",
       "0  0     0      0.0  0.47 +- 0.01                            \n",
       "1  1     1   556.91   0.2 +- 0.01   2.55 +- 0.1              \n",
       "2  2     2  3239.02  0.25 +- 0.02  1.64 +- 0.39  3.11 +- 1.25\n",
       "3  2     3  2965.78  0.25 +- 0.02  1.66 +- 0.46  2.92 +- 2.38\n",
       "4  2     4  2663.58  0.25 +- 0.02  1.64 +- 0.45  2.97 +- 2.35\n",
       "5  2     5  2593.09  0.25 +- 0.02  1.64 +- 0.46  2.89 +- 2.36\n",
       "6  2     6  2677.05  0.25 +- 0.02  1.62 +- 0.48  3.16 +- 2.36"
      ]
     },
     "metadata": {},
     "output_type": "display_data"
    }
   ],
   "source": [
    "import scipy.special as spec\n",
    "\n",
    "def volume_n_ball(kmax, R):\n",
    "    return np.pi**(kmax/2)*R**kmax/(spec.gamma(kmax/2+1))\n",
    "\n",
    "def calculate_feature_estimates(samples, prior_name, k, kmax):\n",
    "    a_mean = np.zeros((kmax+1))\n",
    "    a_std = np.zeros((kmax+1))\n",
    "    for i in range(kmax+1):\n",
    "        a_mean[i] = samples[:,i].mean()\n",
    "        a_std[i] =  samples[:,i].std()\n",
    "    if prior_name == 'Uniform':\n",
    "        # TODO should I send in k here? Our model only consists of features up to k, since we marginalize the rest.\n",
    "        chi_dof_arr = np.zeros((samples.shape[0],1))\n",
    "        print(f'kmax = {np.round(kmax,2)}')\n",
    "        for i in tqdm_notebook(range(samples.shape[0])):\n",
    "            # Iterate over all versions of the model \n",
    "            model = samples[i,:]\n",
    "            chi_dof_i = chi_squared(model, d, x, sigmas, kmax)/(len(x)-(k+1))  # len(x) - (k+1), since we compute (k+1) parameters\n",
    "            chi_dof_arr[i] = chi_dof_i\n",
    "        print(f'Standard deviation in chi^2/dof for kmax={kmax}: sigma = {chi_dof_arr.std()}')\n",
    "        measure = chi_dof_arr.mean()\n",
    "    else:\n",
    "        # Integrate over all a to get evidence\n",
    "        cov = np.cov(samples.T)\n",
    "        if kmax == 0:\n",
    "            cov = np.array(cov).reshape(1,1)\n",
    "        #print(f'det cov: {np.linalg.det(np.linalg.inv(cov))}')\n",
    "        post = np.exp(log_post_natural(a_mean, d, x, sigmas, kmax, bar_a))\n",
    "        print(f'Post: {post}')\n",
    "        fac1 = post\n",
    "        fac2 = np.sqrt((2*np.pi)**(kmax+1)/np.linalg.det(np.linalg.inv(cov)))\n",
    "        print(f'factor 1: {fac1}')\n",
    "        print(f'factor 2: {fac2}')\n",
    "        \n",
    "        evidence = fac1*fac2\n",
    "        measure = evidence\n",
    "    return measure, a_mean[0:k+1], a_std[0:k+1]\n",
    "\n",
    "\n",
    "data_dict = {\n",
    "    \"Uniform\": {\n",
    "        \"k\": [],\n",
    "        \"kmax\": [],\n",
    "        \"measure\": [],\n",
    "        \"a0\": ['' for i in range(kmaxs[-1]+1)],\n",
    "        \"a1\": ['' for i in range(kmaxs[-1]+1)],\n",
    "        \"a2\": ['' for i in range(kmaxs[-1]+1)]\n",
    "    },\n",
    "    \"Natural\": {\n",
    "        \"k\": [],\n",
    "        \"kmax\": [],\n",
    "        \"measure\": [],\n",
    "        \"a0\": ['' for i in range(kmaxs[-1]+1)],\n",
    "        \"a1\": ['' for i in range(kmaxs[-1]+1)],\n",
    "        \"a2\": ['' for i in range(kmaxs[-1]+1)]\n",
    "    }\n",
    "}\n",
    "for kmax in samples_dict:\n",
    "    k = samples_dict[kmax][\"k\"]\n",
    "    for prior in data_dict:\n",
    "        samples = samples_dict[kmax][prior]\n",
    "        measure, a_mean, a_std = calculate_feature_estimates(samples, prior, k, kmax)\n",
    "        data_dict[prior][\"k\"].append(k)\n",
    "        data_dict[prior][\"kmax\"].append(kmax)\n",
    "        data_dict[prior][\"measure\"].append(str(np.round(measure,2)))\n",
    "        for idx, a_i in enumerate(a_mean):\n",
    "            data_dict[prior][\"a\"+str(idx)][kmax] = str(np.round(a_i,2)) + ' +- ' + str(np.round(a_std[idx],2))\n",
    "        \n",
    "uniform_dataframe = pd.DataFrame(data_dict[\"Uniform\"])\n",
    "natural_dataframe = pd.DataFrame(data_dict[\"Natural\"])\n",
    "print('******** Uniform ********')\n",
    "display(uniform_dataframe)\n",
    "print('******** Natural ********')\n",
    "display(natural_dataframe)"
   ]
  },
  {
   "cell_type": "code",
   "execution_count": null,
   "metadata": {},
   "outputs": [],
   "source": []
  }
 ],
 "metadata": {
  "kernelspec": {
   "display_name": "Python 3",
   "language": "python",
   "name": "python3"
  },
  "language_info": {
   "codemirror_mode": {
    "name": "ipython",
    "version": 3
   },
   "file_extension": ".py",
   "mimetype": "text/x-python",
   "name": "python",
   "nbconvert_exporter": "python",
   "pygments_lexer": "ipython3",
   "version": "3.7.4"
  }
 },
 "nbformat": 4,
 "nbformat_minor": 2
}
