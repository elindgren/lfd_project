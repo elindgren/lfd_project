{
 "cells": [
  {
   "cell_type": "code",
   "execution_count": 16,
   "metadata": {},
   "outputs": [],
   "source": [
    "%matplotlib inline\n",
    "\n",
    "import os\n",
    "import time\n",
    "import pickle\n",
    "from multiprocessing import Pool as ThreadPool\n",
    "\n",
    "import numpy as np\n",
    "\n",
    "from scipy.optimize import curve_fit\n",
    "import matplotlib.pyplot as plt\n",
    "from sklearn.model_selection import train_test_split\n",
    "\n",
    "from tensorflow import keras\n",
    "from tensorflow.keras.models import Sequential\n",
    "from tensorflow.keras.layers import Dense, Dropout, Flatten\n",
    "from tensorflow.keras.layers import Conv2D, MaxPooling2D\n",
    "from tensorflow.keras import regularizers\n",
    "\n",
    "from tqdm import tqdm\n",
    "from tqdm import tqdm_notebook\n",
    "\n",
    "from sklearn.metrics import accuracy_score\n",
    "\n",
    "np.random.seed(42)\n",
    "\n",
    "# Custom imports\n",
    "from lattice import Lattice\n",
    "from get_lat_and_m import get_lattices_and_m\n",
    "\n",
    "# Set plot params\n",
    "plt.rc('font', size=14)          # controls default text sizes\n",
    "plt.rc('axes', titlesize=14)     # fontsize of the axes title\n",
    "plt.rc('axes', labelsize=16)    # fontsize of the x and y labels\n",
    "plt.rc('xtick', labelsize=14)    # fontsize of the tick labels\n",
    "plt.rc('ytick', labelsize=14)    # fontsize of the tick labels\n",
    "plt.rc('legend', fontsize=14)    # legend fontsize"
   ]
  },
  {
   "cell_type": "markdown",
   "metadata": {},
   "source": [
    "## ----------------------- CODE FROM PROJECT DESCRIPTION -----------------------\n"
   ]
  },
  {
   "cell_type": "code",
   "execution_count": 17,
   "metadata": {},
   "outputs": [
    {
     "name": "stdout",
     "output_type": "stream",
     "text": [
      "Critical temperature: Tc = 2.2692\n"
     ]
    }
   ],
   "source": [
    "# Calculate critical temperature\n",
    "Tc = 2 / np.log(1+np.sqrt(2))\n",
    "print(f\"Critical temperature: Tc = {Tc:.4f}\")"
   ]
  },
  {
   "cell_type": "code",
   "execution_count": null,
   "metadata": {},
   "outputs": [],
   "source": [
    "# Use 6 threads to run some lattice evolutions\n",
    "# With current parameters, this took a minute or two on an i7\n",
    "# Dump out the lattice configurations/temperatures to a file\n",
    "# and just load it if the file already exists, since this\n",
    "# is a CPU intensive cell.\n",
    "\n",
    "fname = \"ising_config_data_big_and_m.pkl\"\n",
    "\n",
    "def get_lattices(T, N=10, Nlattices=25, Nthermal=200):\n",
    "    \"\"\"\n",
    "    Generates a set of lattices at a given temperature\n",
    "    \n",
    "    Args:\n",
    "        T (float): temperature of the lattice\n",
    "        N (int): the lattice size\n",
    "        Nlattices (int): the number of lattices to generate\n",
    "        Nthermal (int): the number of steps to simulate thermalization\n",
    "    \"\"\"\n",
    "    Ms = []\n",
    "    m = np.abs()\n",
    "    for _ in range(Nlattices):\n",
    "        lat = Lattice(N=N,T=T)\n",
    "        for _ in range(Nthermal):\n",
    "            lat.step()\n",
    "            Ms.append(lat.get_avg_magnetization())\n",
    "        lattices.append(lat.lattice)\n",
    "    m = np.abs(Ms.mean())\n",
    "    return round(T, 4), round(m,4), lattices\n",
    "\n",
    "if not os.path.exists(fname):\n",
    "    print(\"Starting pool\")\n",
    "    pool = ThreadPool(6)\n",
    "    Ts = np.arange(5.0,1.0,-0.1)\n",
    "    d_data = {}\n",
    "    print(\"Get pooling\")\n",
    "    for T, M, lattices in tqdm(pool.imap_unordered(get_lattices_and_m, Ts)):\n",
    "        print(f'T={T}, m={m}')\n",
    "        d_data[T] = {\n",
    "            \"lat\":lattices,\n",
    "            \"mag\": m\n",
    "        }\n",
    "    with open(fname,\"wb\") as fhout:\n",
    "        pickle.dump(d_data,fhout)\n",
    "    print(f\">>> Dumped to {fname}\")\n",
    "\n",
    "else:\n",
    "    d_data = pickle.load(open(fname,\"rb\"))\n",
    "    print(\">>> Loaded from {}\".format(str(fname)))"
   ]
  },
  {
   "cell_type": "code",
   "execution_count": 5,
   "metadata": {},
   "outputs": [
    {
     "ename": "TypeError",
     "evalue": "list indices must be integers or slices, not str",
     "output_type": "error",
     "traceback": [
      "\u001b[1;31m---------------------------------------------------------------------------\u001b[0m",
      "\u001b[1;31mTypeError\u001b[0m                                 Traceback (most recent call last)",
      "\u001b[1;32m<ipython-input-5-cc4ca911aae4>\u001b[0m in \u001b[0;36m<module>\u001b[1;34m\u001b[0m\n\u001b[0;32m      6\u001b[0m \u001b[1;33m\u001b[0m\u001b[0m\n\u001b[0;32m      7\u001b[0m \u001b[1;32mfor\u001b[0m \u001b[0mT\u001b[0m\u001b[1;33m,\u001b[0m \u001b[0mlat_data\u001b[0m \u001b[1;32min\u001b[0m \u001b[0md_data\u001b[0m\u001b[1;33m.\u001b[0m\u001b[0mitems\u001b[0m\u001b[1;33m(\u001b[0m\u001b[1;33m)\u001b[0m\u001b[1;33m:\u001b[0m\u001b[1;33m\u001b[0m\u001b[1;33m\u001b[0m\u001b[0m\n\u001b[1;32m----> 8\u001b[1;33m     \u001b[0mconfigs\u001b[0m \u001b[1;33m=\u001b[0m \u001b[0mlat_data\u001b[0m\u001b[1;33m[\u001b[0m\u001b[1;34m\"lat\"\u001b[0m\u001b[1;33m]\u001b[0m\u001b[1;33m\u001b[0m\u001b[1;33m\u001b[0m\u001b[0m\n\u001b[0m\u001b[0;32m      9\u001b[0m     \u001b[0mm\u001b[0m \u001b[1;33m=\u001b[0m \u001b[0mlat_data\u001b[0m\u001b[1;33m[\u001b[0m\u001b[1;34m\"m\"\u001b[0m\u001b[1;33m]\u001b[0m\u001b[1;33m\u001b[0m\u001b[1;33m\u001b[0m\u001b[0m\n\u001b[0;32m     10\u001b[0m     \u001b[1;32mfor\u001b[0m \u001b[0mconfig\u001b[0m \u001b[1;32min\u001b[0m \u001b[0mconfigs\u001b[0m\u001b[1;33m:\u001b[0m\u001b[1;33m\u001b[0m\u001b[1;33m\u001b[0m\u001b[0m\n",
      "\u001b[1;31mTypeError\u001b[0m: list indices must be integers or slices, not str"
     ]
    }
   ],
   "source": [
    "# make vector of input matrices, vector of temperatures\n",
    "X_data = []\n",
    "y_data = []\n",
    "T_data = []\n",
    "m_data = []\n",
    "\n",
    "for T, lat_data in d_data.items():\n",
    "    configs = lat_data[\"lat\"]\n",
    "    m = lat_data[\"m\"]\n",
    "    for config in configs:\n",
    "        # flip spins to double dataset keeping E same\n",
    "        # this is also needed so ML algorithm doesn't learn\n",
    "        # to prefer one magnetization sign over another\n",
    "        # also make truth labels (0 is low T phase, 1 is high T phase)\n",
    "        # and also mirror lattice horizontally/vertically to get free data\n",
    "        target = 0\n",
    "        if T > Tc:\n",
    "            target = 1\n",
    "            \n",
    "        X_data.append(config)\n",
    "        X_data.append(np.flip(config,0))\n",
    "        X_data.append(np.flip(config,1))\n",
    "        X_data.append(-config)\n",
    "        X_data.append(-np.flip(config,0))\n",
    "        X_data.append(-np.flip(config,1))\n",
    "        \n",
    "        for _ in range(6):\n",
    "            T_data.append(T)\n",
    "            m_data.append(m)\n",
    "            y_data.append(target)\n",
    "\n",
    "\n",
    "X_data = np.array(X_data)\n",
    "y_data = np.array(y_data)\n",
    "T_data = np.array(T_data)\n",
    "m_data = np.array(m_data)\n",
    "\n",
    "# convert spin matrices from -1,1 to 0,1\n",
    "X_data = 0.5*(X_data+1)\n",
    "\n",
    "# Thus, our training and test sets will consist of \n",
    "# the lattice images and the targets will be 0 or 1.\n",
    "# If the lattice is at low (T<Tc) or high (T>Tc) temperature\n",
    "# It's up to the NN / CNN to learn the concept of temperature/magnetization/etc."
   ]
  },
  {
   "cell_type": "markdown",
   "metadata": {},
   "source": [
    "### Old code"
   ]
  },
  {
   "cell_type": "code",
   "execution_count": 7,
   "metadata": {},
   "outputs": [
    {
     "name": "stdout",
     "output_type": "stream",
     "text": [
      ">>> Loaded from ising_config_data_big.pkl\n"
     ]
    }
   ],
   "source": [
    "# Use 6 threads to run some lattice evolutions\n",
    "# With current parameters, this took a minute or two on an i7\n",
    "# Dump out the lattice configurations/temperatures to a file\n",
    "# and just load it if the file already exists, since this\n",
    "# is a CPU intensive cell.\n",
    "\n",
    "fname = \"ising_config_data_big.pkl\"\n",
    "\n",
    "def get_lattices(T, N=10, Nlattices=25, Nthermal=200):\n",
    "    \"\"\"\n",
    "    Generates a set of lattices at a given temperature\n",
    "    \n",
    "    Args:\n",
    "        T (float): temperature of the lattice\n",
    "        N (int): the lattice size\n",
    "        Nlattices (int): the number of lattices to generate\n",
    "        Nthermal (int): the number of steps to simulate thermalization\n",
    "    \"\"\"\n",
    "    lattices = []\n",
    "    for _ in range(Nlattices):\n",
    "        lat = Lattice(N=N,T=T)\n",
    "        for _ in range(Nthermal):\n",
    "            lat.step()\n",
    "        lattices.append(lat.lattice)\n",
    "    return round(T, 4), lattices\n",
    "\n",
    "if not os.path.exists(fname):\n",
    "    pool = ThreadPool(6)\n",
    "    Ts = np.arange(5.0,1.0, 0.1)\n",
    "    d_data = {}\n",
    "    for T, lattices in pool.imap_unordered(get_lattices, Ts):\n",
    "        print(T)\n",
    "        d_data[T] = lattices\n",
    "\n",
    "    with open(fname,\"wb\") as fhout:\n",
    "        pickle.dump(d_data,fhout)\n",
    "    print(f\">>> Dumped to {fname}\")\n",
    "\n",
    "else:\n",
    "    d_data = pickle.load(open(fname,\"rb\"))\n",
    "    print(\">>> Loaded from {}\".format(str(fname)))"
   ]
  },
  {
   "cell_type": "code",
   "execution_count": 8,
   "metadata": {},
   "outputs": [],
   "source": [
    "# make vector of input matrices, vector of temperatures\n",
    "X_data = []\n",
    "y_data = []\n",
    "T_data = []\n",
    "\n",
    "for T,configs in d_data.items():\n",
    "    for config in configs:\n",
    "        # flip spins to double dataset keeping E same\n",
    "        # this is also needed so ML algorithm doesn't learn\n",
    "        # to prefer one magnetization sign over another\n",
    "        # also make truth labels (0 is low T phase, 1 is high T phase)\n",
    "        # and also mirror lattice horizontally/vertically to get free data\n",
    "        target = 0\n",
    "        if T > Tc:\n",
    "            target = 1\n",
    "            \n",
    "        X_data.append(config)\n",
    "        X_data.append(np.flip(config,0))\n",
    "        X_data.append(np.flip(config,1))\n",
    "        X_data.append(-config)\n",
    "        X_data.append(-np.flip(config,0))\n",
    "        X_data.append(-np.flip(config,1))\n",
    "        \n",
    "        for _ in range(6):\n",
    "            T_data.append(T)\n",
    "            y_data.append(target)\n",
    "\n",
    "\n",
    "X_data = np.array(X_data)\n",
    "y_data = np.array(y_data)\n",
    "T_data = np.array(T_data)\n",
    "\n",
    "# convert spin matrices from -1,1 to 0,1\n",
    "X_data = 0.5*(X_data+1)\n",
    "\n",
    "# Thus, our training and test sets will consist of \n",
    "# the lattice images and the targets will be 0 or 1.\n",
    "# If the lattice is at low (T<Tc) or high (T>Tc) temperature\n",
    "# It's up to the NN / CNN to learn the concept of temperature/magnetization/etc."
   ]
  },
  {
   "cell_type": "code",
   "execution_count": 9,
   "metadata": {},
   "outputs": [],
   "source": [
    "# function to split the data\n",
    "def split_data(X_data, y_data, T_data, Thi=4.7, Tlo=1.3, test_size=0,random_state=42):\n",
    "    \"\"\"\n",
    "    Splits the data into train and test sets according to the settings.\n",
    "    \n",
    "    Either using sklearn train_test_split (test_size).  \n",
    "    Or, alternatively, using T>Thi and T<Tlo data as training data and Tlo < T < Thi as predictions/test.\n",
    "    \"\"\"\n",
    "    if test_size:\n",
    "        print(f\"Using sklearn to split data. Test size: {test_size*100:}%\")\n",
    "        X_train, X_test, y_train, y_test, T_train, T_test = \\\n",
    "          train_test_split(X_data, y_data, T_data, test_size=test_size, random_state=random_state)\n",
    "    elif (Thi and Tlo):\n",
    "        print(f\"Using T>{Thi} and T<{Tlo} as training data.\")\n",
    "        train_set = np.logical_or(T_data>=Thi,T_data<=Tlo)\n",
    "        test_set = np.logical_not(train_set)\n",
    "        X_train = X_data[train_set]\n",
    "        X_test = X_data[test_set]\n",
    "        y_train = y_data[train_set]\n",
    "        y_test = y_data[test_set]\n",
    "        T_train = T_data[train_set]\n",
    "        T_test = T_data[test_set]\n",
    "    else:\n",
    "        print(\"No rule to split data.\")\n",
    "        return None\n",
    "        \n",
    "    print(f\"...Training samples: {X_train.shape[0]}\")\n",
    "    print(f\"...Testing samples:  {X_test.shape[0]}\")\n",
    "    return(X_train, X_test, y_train, y_test, T_train, T_test)"
   ]
  },
  {
   "cell_type": "markdown",
   "metadata": {},
   "source": [
    "## ----------------- END OF CODE FROM PROJECT DESCRIPTION -----------------"
   ]
  },
  {
   "cell_type": "markdown",
   "metadata": {},
   "source": [
    "## Task 2: NN with 3 neurons in the hidden layer."
   ]
  },
  {
   "cell_type": "markdown",
   "metadata": {},
   "source": [
    "### Load the data "
   ]
  },
  {
   "cell_type": "code",
   "execution_count": 10,
   "metadata": {},
   "outputs": [
    {
     "name": "stdout",
     "output_type": "stream",
     "text": [
      "Using sklearn to split data. Test size: 30.0%\n",
      "...Training samples: 4200\n",
      "...Testing samples:  1800\n"
     ]
    }
   ],
   "source": [
    "X_train, X_test, y_train, y_test, T_train, T_test = split_data(X_data, y_data, T_data,test_size=0.3)"
   ]
  },
  {
   "cell_type": "code",
   "execution_count": 11,
   "metadata": {},
   "outputs": [
    {
     "name": "stdout",
     "output_type": "stream",
     "text": [
      "[[[ 1.  1.  1. ...  1.  1. -1.]\n",
      "  [ 1.  1.  1. ...  1.  1.  1.]\n",
      "  [ 1.  1.  1. ...  1.  1.  1.]\n",
      "  ...\n",
      "  [ 1.  1.  1. ...  1.  1.  1.]\n",
      "  [ 1.  1.  1. ...  1.  1.  1.]\n",
      "  [ 1.  1.  1. ...  1. -1.  1.]]\n",
      "\n",
      " [[ 1. -1.  1. ...  1.  1.  1.]\n",
      "  [ 1. -1. -1. ...  1.  1.  1.]\n",
      "  [-1. -1. -1. ... -1. -1. -1.]\n",
      "  ...\n",
      "  [-1.  1.  1. ... -1. -1. -1.]\n",
      "  [-1.  1.  1. ... -1. -1. -1.]\n",
      "  [ 1. -1.  1. ...  1.  1. -1.]]\n",
      "\n",
      " [[ 1. -1. -1. ...  1.  1.  1.]\n",
      "  [ 1.  1.  1. ... -1.  1.  1.]\n",
      "  [-1.  1.  1. ...  1.  1.  1.]\n",
      "  ...\n",
      "  [-1.  1. -1. ...  1.  1.  1.]\n",
      "  [ 1.  1. -1. ...  1.  1. -1.]\n",
      "  [ 1.  1.  1. ...  1.  1.  1.]]\n",
      "\n",
      " ...\n",
      "\n",
      " [[-1. -1. -1. ... -1. -1. -1.]\n",
      "  [-1. -1. -1. ... -1. -1. -1.]\n",
      "  [-1. -1. -1. ... -1. -1. -1.]\n",
      "  ...\n",
      "  [-1. -1. -1. ... -1. -1. -1.]\n",
      "  [-1. -1. -1. ... -1. -1. -1.]\n",
      "  [-1. -1. -1. ... -1. -1. -1.]]\n",
      "\n",
      " [[ 1.  1.  1. ...  1.  1.  1.]\n",
      "  [ 1.  1.  1. ...  1.  1.  1.]\n",
      "  [ 1.  1.  1. ...  1.  1.  1.]\n",
      "  ...\n",
      "  [ 1.  1.  1. ... -1.  1.  1.]\n",
      "  [ 1.  1.  1. ... -1.  1.  1.]\n",
      "  [ 1.  1.  1. ...  1.  1.  1.]]\n",
      "\n",
      " [[-1. -1.  1. ...  1. -1. -1.]\n",
      "  [ 1.  1.  1. ...  1.  1. -1.]\n",
      "  [ 1.  1.  1. ... -1. -1.  1.]\n",
      "  ...\n",
      "  [ 1.  1. -1. ... -1. -1.  1.]\n",
      "  [ 1.  1. -1. ... -1. -1.  1.]\n",
      "  [-1. -1. -1. ... -1. -1. -1.]]]\n"
     ]
    }
   ],
   "source": [
    "# Only interested in the magnetization data\n",
    "#m_train = X_train[:,2]\n",
    "#m_test = X_test[:,2]\n",
    "\n",
    "# Make the data symmetric - encode +-1 instead 0 and 1. \n",
    "m_train = np.where(X_train==0, -1,  X_train)\n",
    "m_test = np.where(X_test==0, -1,  X_test)\n",
    "\n",
    "# Expand dimensions to len, 1 ,1\n",
    "#m_train =  np.expand_dims(m_train, 2)\n",
    "#m_test =  np.expand_dims(m_test, 2)\n",
    "\n",
    "# One-hot encode targets\n",
    "y_train = keras.utils.to_categorical(y_train, 2)\n",
    "y_test = keras.utils.to_categorical(y_test, 2)\n",
    "\n",
    "print(m_train)\n",
    "\n",
    "# Flatten input data\n",
    "#m_train = m_train.flatten()\n",
    "#m_test = m_test.flatten()"
   ]
  },
  {
   "cell_type": "markdown",
   "metadata": {},
   "source": [
    "### Define the DNN"
   ]
  },
  {
   "cell_type": "markdown",
   "metadata": {},
   "source": [
    "### Train and predict"
   ]
  },
  {
   "cell_type": "code",
   "execution_count": 12,
   "metadata": {},
   "outputs": [
    {
     "name": "stdout",
     "output_type": "stream",
     "text": [
      "WARNING:tensorflow:From C:\\Users\\ericl\\Anaconda3\\envs\\physics\\lib\\site-packages\\tensorflow\\python\\ops\\resource_variable_ops.py:435: colocate_with (from tensorflow.python.framework.ops) is deprecated and will be removed in a future version.\n",
      "Instructions for updating:\n",
      "Colocations handled automatically by placer.\n",
      "_________________________________________________________________\n",
      "Layer (type)                 Output Shape              Param #   \n",
      "=================================================================\n",
      "flatten (Flatten)            (None, 100)               0         \n",
      "_________________________________________________________________\n",
      "dense (Dense)                (None, 3)                 303       \n",
      "_________________________________________________________________\n",
      "dense_1 (Dense)              (None, 2)                 8         \n",
      "=================================================================\n",
      "Total params: 311\n",
      "Trainable params: 311\n",
      "Non-trainable params: 0\n",
      "_________________________________________________________________\n",
      "WARNING:tensorflow:From C:\\Users\\ericl\\Anaconda3\\envs\\physics\\lib\\site-packages\\tensorflow\\python\\ops\\math_ops.py:3066: to_int32 (from tensorflow.python.ops.math_ops) is deprecated and will be removed in a future version.\n",
      "Instructions for updating:\n",
      "Use tf.cast instead.\n"
     ]
    },
    {
     "data": {
      "text/plain": [
       "<matplotlib.legend.Legend at 0x180c123c2c8>"
      ]
     },
     "execution_count": 12,
     "metadata": {},
     "output_type": "execute_result"
    },
    {
     "data": {
      "image/png": "[encoded data removed]",
      "text/plain": [
       "<Figure size 720x432 with 1 Axes>"
      ]
     },
     "metadata": {
      "needs_background": "light"
     },
     "output_type": "display_data"
    },
    {
     "data": {
      "image/png": "[encoded data removed]",
      "text/plain": [
       "<Figure size 720x432 with 1 Axes>"
      ]
     },
     "metadata": {
      "needs_background": "light"
     },
     "output_type": "display_data"
    }
   ],
   "source": [
    "def create_dnn(data, n_neurons=3):\n",
    "    '''\n",
    "    Create a DNN using the shape of the data tensor and n_neurons number of neurons in the hidden\n",
    "    layer, with an L2 regularizer to minimize overfitting. Only take in the magnetization as input data.\n",
    "    '''\n",
    "    model = Sequential()\n",
    "    model.add(Flatten(input_shape=(data.shape[1], data.shape[2])))  # Flatten the 10x10 grid\n",
    "    hidden_layer = Dense(n_neurons,\n",
    "                    activation='sigmoid',\n",
    "                    kernel_regularizer=regularizers.l2(0.01),\n",
    "                    activity_regularizer=regularizers.l1(0.01))\n",
    "    model.add(hidden_layer)\n",
    "    model.add(Dense(2, activation='sigmoid'))\n",
    "    model.compile(optimizer='adam',\n",
    "                 loss='categorical_crossentropy',\n",
    "                 metrics=['accuracy'])\n",
    "    return model, hidden_layer\n",
    "\n",
    "dnn, hidden_layer = create_dnn(m_train, 3)\n",
    "dnn.summary()\n",
    "\n",
    "# Fit on X_train and y_train\n",
    "epochs = 64\n",
    "hist = dnn.fit(x=m_train, \n",
    "               y=y_train,\n",
    "               validation_data=(m_test, y_test),\n",
    "               epochs=128,\n",
    "               batch_size=64,\n",
    "               verbose=0)\n",
    "\n",
    "# Plot training and test performance\n",
    "fig1, ax1 = plt.subplots(figsize=(10,6))\n",
    "ax1.plot(hist.history['loss'], label='Training accuracy')\n",
    "ax1.plot(hist.history['val_loss'], label='Validation accuracy')\n",
    "ax1.set_xlabel(\"Epoch\")\n",
    "ax1.set_ylabel(\"Accuracy\")\n",
    "ax1.set_title(\"Loss\")\n",
    "ax1.grid()\n",
    "ax1.legend(loc='best')\n",
    "\n",
    "fig2, ax2 = plt.subplots(figsize=(10,6))\n",
    "ax2.plot(hist.history['acc'], label='Training loss')\n",
    "ax2.plot(hist.history['val_acc'], label='Validation loss')\n",
    "ax2.set_xlabel(\"Epoch\")\n",
    "ax2.set_ylabel(\"Accuracy\")\n",
    "ax2.set_title(\"Accuracy\")\n",
    "ax2.grid()\n",
    "ax2.legend(loc='best')"
   ]
  },
  {
   "cell_type": "code",
   "execution_count": 14,
   "metadata": {},
   "outputs": [
    {
     "name": "stdout",
     "output_type": "stream",
     "text": [
      "(100, 3)\n",
      "(3,)\n"
     ]
    }
   ],
   "source": [
    "# Get the weights and plot the intermediate results\n",
    "W = hidden_layer.get_weights()[0]\n",
    "b = hidden_layer.get_weights()[1]\n",
    "print(W.shape)\n",
    "print(b.shape)\n",
    "\n",
    "# Generate input data for different magnetizations m. \n"
   ]
  },
  {
   "cell_type": "markdown",
   "metadata": {},
   "source": [
    "## Konstigt här nedanför"
   ]
  },
  {
   "cell_type": "code",
   "execution_count": null,
   "metadata": {},
   "outputs": [],
   "source": [
    "def calc_accuracy(p, t):\n",
    "    '''Calculates the accuracy for prediction p compared to targets t.'''\n",
    "    nbr_correct = np.sum(np.around(p) == t)\n",
    "    return nbr_correct/len(p)\n",
    "\n",
    "# Test calc_accuracy\n",
    "p_test = [0.6, 0.4, 0.05, 1]\n",
    "t_test = [1, 1, 1, 1]\n",
    "print(f'calc_accuracy passes unit tests: {0.5 == calc_accuracy(p_test, t_test)}')\n",
    "    \n",
    "\n",
    "def sigmoid(a):\n",
    "    '''¨Returns the sigmoid value of the activation a.'''\n",
    "    return 1/(1+np.exp(-a))\n",
    "\n",
    "\n",
    "def feed_forward(x, w, b):\n",
    "    '''Performs the feed-forward pass for our neuron. Return the activation.'''\n",
    "    z = x@w + b.T\n",
    "    return sigmoid(z)  \n",
    "   \n",
    "\n",
    "def cost_function(y, t, b_w, alpha):\n",
    "    '''\n",
    "    Calculates the cost-function for output data y and labels t. \n",
    "    Also utilizes weight regularization.\n",
    "    '''\n",
    "    cost = - np.sum( t*np.log(y) + (1-t)*np.log(1-y) )\n",
    "    reg = 1/2 * np.sum(b_w**2)\n",
    "    return cost + alpha*reg\n",
    "    \n",
    "    \n",
    "def train_neuron(m_train, t_train, m_test, t_test, n_neurons, epochs=1000, batch_size=50, alpha=1, eta=0.01, seed=1):\n",
    "    '''\n",
    "    Trains the simple DNN. Only take in m data.\n",
    "    Randomize weights and bias term. Use batch gradient descent.\n",
    "    '''\n",
    "    # Set the seed\n",
    "    np.random.seed(seed)\n",
    "    # Randomize the weights\n",
    "    W = 100*np.random.uniform(size=(1, n_neurons)) \n",
    "    b = 100*np.random.uniform(size=(1, n_neurons))\n",
    "    # Iterate over all instances of data\n",
    "    costs = []\n",
    "    train_accuracies = []\n",
    "    test_accuracies = []\n",
    "    for epoch in tqdm_notebook(range(epochs)):\n",
    "        # Train the network in epochs - one epoch goes through all the data\n",
    "        # Shuffle the x and t vectors at the beginning of each epoch\n",
    "        shuffle_idx = np.random.randint(0, len(m_train)-1, len(m_train))\n",
    "        m_train = m_train[shuffle_idx]\n",
    "        t_train = y_train[shuffle_idx]\n",
    "        \n",
    "        # Split into batches of equal size\n",
    "        m_batches = np.array_split(m_train, batch_size)\n",
    "        t_batches = np.array_split(t_train, batch_size)\n",
    "        for idx, m_b in enumerate(m_batches):\n",
    "            m_b = np.expand_dims(m_b, -1)\n",
    "            t_b = t_batches[idx]\n",
    "            \n",
    "            # Create design matrix\n",
    "            M = np.concatenate((m_b[:,0]**0, m_b[:,0], m_b[:,1]), axis=1)\n",
    "            \n",
    "            # Squeeze x_i to remove unnecessary dimension\n",
    "            m_b = np.squeeze(m_b)\n",
    "            \n",
    "            # Calculate the network output\n",
    "            y_b = feed_forward(m_b, W, b)\n",
    "            \n",
    "            # Create vector of bias and weights\n",
    "            bias_and_weights = np.concatenate((b, W), axis=0)  # [b, w]\n",
    "            \n",
    "            # Calculate the cost and do a prediction - for monitoring training\n",
    "            c_b = cost_function(y_b, t_b, bias_and_weights, alpha)\n",
    "            costs.append(c_b)\n",
    "            \n",
    "            # Update to our weights - last term is from regularizer\n",
    "            delta_bias_and_weights = (M.T).dot(t_b-y_b) - alpha*bias_and_weights\n",
    "            \n",
    "            # Update weights and biases\n",
    "            b += eta*delta_bias_and_weights[:,0]\n",
    "            W += eta*delta_bias_and_weights[:,1:]\n",
    "            \n",
    "        # Do a predict on train data set, for monitoring training.\n",
    "        train_acc = calc_accuracy(feed_forward(m_train, W, b), t_train)\n",
    "        train_accuracies.append(train_acc)\n",
    "        test_acc = calc_accuracy(feed_forward(m_test, W, b), t_test)\n",
    "        test_accuracies.append(test_acc)\n",
    "        # TODO add losses?\n",
    "    print(f'Final test accuracy was: {test_acc:.3f}')\n",
    "    fig1, ax1 = plt.subplots(figsize=(10,6))\n",
    "    ax1.plot(np.log(costs))\n",
    "    ax1.set_ylabel(r'log(cost)')\n",
    "    ax1.set_xlabel(r'Iterations')\n",
    "    ax1.grid()\n",
    "    \n",
    "    fig2, ax2 = plt.subplots(figsize=(10,6))\n",
    "    ax2.plot(train_accuracies, label='Training accuracy')\n",
    "    ax2.plot(test_accuracies, label='Test accuracy')\n",
    "    ax2.set_xlabel(\"Epoch\")\n",
    "    ax2.set_ylabel(\"Accuracy\")\n",
    "    ax2.legend(loc='best')\n",
    "    ax2.grid()\n",
    "    # Return the optimized weights\n",
    "    return w, b\n",
    "    \n",
    "\n",
    "w_star, b_star = train_neuron(m_train, y_train, m_test, y_test, 3)"
   ]
  },
  {
   "cell_type": "code",
   "execution_count": null,
   "metadata": {},
   "outputs": [],
   "source": []
  }
 ],
 "metadata": {
  "kernelspec": {
   "display_name": "Python 3",
   "language": "python",
   "name": "python3"
  },
  "language_info": {
   "codemirror_mode": {
    "name": "ipython",
    "version": 3
   },
   "file_extension": ".py",
   "mimetype": "text/x-python",
   "name": "python",
   "nbconvert_exporter": "python",
   "pygments_lexer": "ipython3",
   "version": "3.7.4"
  }
 },
 "nbformat": 4,
 "nbformat_minor": 2
}
