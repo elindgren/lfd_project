{
 "cells": [
  {
   "cell_type": "markdown",
   "metadata": {},
   "source": [
    "# Description of notebook\n",
    "This notebook includes the solution to *Task 1: Singel neuron binary classifier*"
   ]
  },
  {
   "cell_type": "code",
   "execution_count": 1,
   "metadata": {},
   "outputs": [],
   "source": [
    "%matplotlib inline\n",
    "\n",
    "# Standard packeges\n",
    "import os\n",
    "import time\n",
    "import pickle\n",
    "from multiprocessing import Pool as ThreadPool\n",
    "\n",
    "# Third party\n",
    "import numpy as np\n",
    "\n",
    "from scipy.optimize import curve_fit\n",
    "import matplotlib.pyplot as plt\n",
    "from sklearn.model_selection import train_test_split\n",
    "\n",
    "from tensorflow import keras\n",
    "from tensorflow.keras.models import Sequential\n",
    "from tensorflow.keras.layers import Dense, Dropout, Flatten\n",
    "from tensorflow.keras.layers import Conv2D, MaxPooling2D\n",
    "\n",
    "from tqdm import tqdm_notebook as tqdm\n",
    "\n",
    "np.random.seed(42)\n",
    "\n",
    "# Custom imports\n",
    "from lattice import Lattice\n",
    "\n",
    "# Set plot params\n",
    "plt.rc('font', size=14)          # controls default text sizes\n",
    "plt.rc('axes', titlesize=14)     # fontsize of the axes title\n",
    "plt.rc('axes', labelsize=16)    # fontsize of the x and y labels\n",
    "plt.rc('xtick', labelsize=14)    # fontsize of the tick labels\n",
    "plt.rc('ytick', labelsize=14)    # fontsize of the tick labels\n",
    "plt.rc('legend', fontsize=14)    # legend fontsize"
   ]
  },
  {
   "cell_type": "markdown",
   "metadata": {},
   "source": [
    "### Generate data by given scripts"
   ]
  },
  {
   "cell_type": "code",
   "execution_count": 2,
   "metadata": {},
   "outputs": [
    {
     "data": {
      "application/vnd.jupyter.widget-view+json": {
       "model_id": "58796499888a4d5888c49c7b18d4ebea",
       "version_major": 2,
       "version_minor": 0
      },
      "text/plain": [
       "HBox(children=(IntProgress(value=0, max=60), HTML(value='')))"
      ]
     },
     "metadata": {},
     "output_type": "display_data"
    },
    {
     "name": "stdout",
     "output_type": "stream",
     "text": [
      "\n"
     ]
    }
   ],
   "source": [
    "# 10 x 10 lattice\n",
    "# 60 temperatures, 500 thermalization iterations\n",
    "\n",
    "# For a temperature range, thermalize a lattice, then\n",
    "# take a few hundred steps, recording energy and magnetization.\n",
    "# Store the means to plot next.\n",
    "# This takes about 60s with one modern core.\n",
    "\n",
    "# Thermalization and measurement steps\n",
    "ntherm = 500\n",
    "nmeasure = 200\n",
    "\n",
    "# points = array with (T, mean(E), abs(mean(M)), var(E))\n",
    "# with the mean and variance evaluated for a list of many temperatures\n",
    "points = []\n",
    "# Storing nmeasure / nsparse data points\n",
    "nsparse = 10\n",
    "# points_full = array with (T, E, abs(M))\n",
    "# for several different configurations per temperature\n",
    "points_full=[]\n",
    "for T in tqdm(np.arange(4.0,1.0,-0.05)):\n",
    "    lat = Lattice(N=10,T=T)\n",
    "    for _ in range(ntherm):\n",
    "        lat.step()\n",
    "    Es = []\n",
    "    Ms = []\n",
    "\n",
    "    for istep in range(nmeasure): \n",
    "        lat.step()\n",
    "        Es.append(lat.get_energy())\n",
    "        Ms.append(lat.get_avg_magnetization())\n",
    "        if (istep%nsparse==0):\n",
    "            points_full.append((T,Es[-1],np.abs(Ms[-1])))           \n",
    "    Es = np.array(Es)\n",
    "    Ms = np.array(Ms)\n",
    "    points.append((T,Es.mean(),np.abs(Ms.mean()),Es.var()))\n",
    "points = np.array(points)\n",
    "points_full = np.array(points_full)"
   ]
  },
  {
   "cell_type": "code",
   "execution_count": 3,
   "metadata": {},
   "outputs": [
    {
     "name": "stdout",
     "output_type": "stream",
     "text": [
      "Critical temperature: Tc = 2.2692\n"
     ]
    }
   ],
   "source": [
    "# Calculate critical temperature\n",
    "Tc = 2 / np.log(1+np.sqrt(2))\n",
    "print(f\"Critical temperature: Tc = {Tc:.4f}\")"
   ]
  },
  {
   "cell_type": "markdown",
   "metadata": {},
   "source": [
    "## Definiton of functions\n",
    "We want to use the full data set, `points-full`, as our dataset to the network. This is because `points-full` contains the full data set."
   ]
  },
  {
   "cell_type": "code",
   "execution_count": 17,
   "metadata": {},
   "outputs": [
    {
     "name": "stdout",
     "output_type": "stream",
     "text": [
      "(840, 3)\n",
      "(360, 3)\n"
     ]
    }
   ],
   "source": [
    "# Normalize data by the conventional method of subtracting mean and dividing with the standard deviation\n",
    "def normalize(train_data, test_data):\n",
    "    '''\n",
    "    Normalize train_data and test_data using the mean and standard deviation from the \n",
    "    train_data set. This is as to not contaminate the test_data and introduce correlations. \n",
    "    '''\n",
    "    # Iterate over all columns in training data, and normalize all data using training data!\n",
    "    for i in range(1,2+1):\n",
    "        # We want to normalize columns 1 and 2 - not T, which will be one-hot encoded!\n",
    "        mean = train_data[:,i].mean(axis=0)\n",
    "        std = train_data[:,i].std(axis=0)\n",
    "        assert (std-0) > 1e-5  # Check so standard deviation is not zero!\n",
    "        train_data[:,i] -= mean\n",
    "        train_data[:,i] /= std\n",
    "        test_data[:,i] -= mean\n",
    "        test_data[:,i] /= std\n",
    "        \n",
    "    return train_data, test_data\n",
    "\n",
    "\n",
    "def data_split(data, train_fraction, seed, shuffle):\n",
    "    '''Shuffle the dataset, and then split into two fractions'''\n",
    "    if shuffle:\n",
    "        np.random.shuffle(data)  # Shuffles along the first dimension, i.e. along the row dimension.\n",
    "        \n",
    "    # Split into two parts, with the train_set being train_frac\n",
    "    split_idx = int(data.shape[0]*train_fraction)\n",
    "    test_data = data[:split_idx]\n",
    "    train_data = data[split_idx:]\n",
    "    \n",
    "    return train_data, test_data\n",
    "\n",
    "\n",
    "def one_hot_labels(data, Tc):\n",
    "    '''One hot encodes the first column in data. Use boolean expressions.'''\n",
    "    bool_arr = data[:,0] > Tc\n",
    "    data[:,0] = bool_arr\n",
    "    \n",
    "    return data\n",
    "    \n",
    "    \n",
    "def prepare_data(full_data, Tc, test_fraction=0.3, seed=1, shuffle=True):\n",
    "    '''\n",
    "    One-hot encodes T-column as 0 if T < Tc and 1 if T > Tc.  \n",
    "    Shuffles and splits the dataset into a training and a test set. \n",
    "    Finally normalizes the test and train sets using the train set.\n",
    "    '''\n",
    "    np.random.seed(seed)\n",
    "    data = np.copy(full_data) # Make a copy, as not to overwrite original data\n",
    "    data = one_hot_labels(data, Tc)  # One-hot encode labels\n",
    "    train_data, test_data = data_split(data, test_fraction, seed, shuffle)  # Shuffle and split the dataset\n",
    "    train_data, test_data = normalize(train_data, test_data)\n",
    "    \n",
    "    return(train_data, test_data)\n",
    "    \n",
    "train_data, test_data = prepare_data(points_full, Tc, 0.3, seed=2)\n",
    "print(train_data.shape)\n",
    "print(test_data.shape)"
   ]
  },
  {
   "cell_type": "markdown",
   "metadata": {},
   "source": [
    "Create the neuron. The weight vector $w$ has shape $(n_{features})$, which in our case is, corresponding to $E$ and $|m|$. $b$ is our bias term for our neuron."
   ]
  },
  {
   "cell_type": "markdown",
   "metadata": {},
   "source": [
    "Our cost function is cross-entropy, with a regularizer term with weight decay $\\alpha$. With our sigmoid activation function, our cross-entropy for our $i$ instances of data becomes:\n",
    "\n",
    "$$ C(w) = - \\sum_i t_i \\log{\\frac{e^{w\\cdot x_i + b}}{1+e^{w\\cdot x_i + b}}} + (1-t_i) \\log \\left(1 + \\frac{e^{w\\cdot x_i + b}}{1+e^{w\\cdot x_i + b}} \\right) = $$\n",
    "\n",
    "$$ =  - \\sum_i t_i (w\\cdot x_i + b) - t_i \\log{\\left(1+e^{w\\cdot x_i + b}\\right)} + (1-t_i) \\log(1) - (1-t_i) \\log{\\left(1+e^{w\\cdot x_i + b}\\right)}$$ \n",
    "\n",
    "$$ = - \\sum_i t_i (w\\cdot x_i + b) - \\log{\\left(1+e^{w\\cdot x_i + b}\\right)}.$$\n",
    "\n",
    "If we take the gradient with regards to $b$, we obtain:\n",
    "\n",
    "$$ - \\sum_i t_i - \\frac{e^{w\\cdot x_i + b}}{1+e^{w\\cdot x_i + b}} = -\\sum_i t_i-y_i = - \\sum_i e_i,$$\n",
    "\n",
    "and if we take the gradient with regards to $w$ we obtain:\n",
    "\n",
    "$$ - \\sum_i t_i x_i - \\frac{x_i e^{w\\cdot x_i + b}}{1+e^{w\\cdot x_i + b}} = -\\sum_i x_i(t_i-y_i) = - \\vec{x}^T \\cdot \\vec{e} .$$\n",
    "\n",
    "We can summarize the total gradient in terms of the design matrix $X=(\\vec{1}, \\vec{E}, \\vec{m})$ of shape $(n_{instances}, n_{features})$:\n",
    "\n",
    "$$ \\nabla C = - \\vec{X}^T \\cdot \\vec{e} $$\n",
    "\n",
    "where  $e$ has shape $(n_instances)$. The contribution to both of these terms is the gradient of the regularizer:\n",
    "\n",
    "$$ E(w,b) = -\\frac{1}{2} \\left( \\sum_i w_i^2 + b^2 \\right) => \\nabla E = \\vec{[b, w]},$$\n",
    "\n",
    "where $\\vec{[b, w]}$ is to be interpreted as bias term appended to the weight vector $w$. The total gradient is thus:\n",
    "\n",
    "$$ \\nabla C_w = - \\vec{X}^T \\cdot \\vec{e} - \\vec{[b, w]}.$$\n",
    "\n",
    "The shift to our weights is hence, with learning rate $\\eta$ and weight decay $\\alpha$: \n",
    "\n",
    "$$ \\delta w = -\\eta \\nabla C_w = \\eta \\left(\\vec{X}^T \\cdot \\vec{e} + \\alpha \\vec{[b, w]} \\right)$$"
   ]
  },
  {
   "cell_type": "code",
   "execution_count": 16,
   "metadata": {},
   "outputs": [
    {
     "name": "stdout",
     "output_type": "stream",
     "text": [
      "calc_accuracy passes unit tests: True\n"
     ]
    },
    {
     "data": {
      "application/vnd.jupyter.widget-view+json": {
       "model_id": "0a45871f23944ac0bfc1a9733889312d",
       "version_major": 2,
       "version_minor": 0
      },
      "text/plain": [
       "HBox(children=(IntProgress(value=0, max=50), HTML(value='')))"
      ]
     },
     "metadata": {},
     "output_type": "display_data"
    },
    {
     "name": "stdout",
     "output_type": "stream",
     "text": [
      "\n",
      "Final test accuracy was: 0.933\n",
      "[ 1.15357104 -0.9709666 ]\n",
      "[0.48033584]\n"
     ]
    },
    {
     "data": {
      "image/png": "[encoded data removed]",
      "text/plain": [
       "<Figure size 432x432 with 1 Axes>"
      ]
     },
     "metadata": {
      "needs_background": "light"
     },
     "output_type": "display_data"
    },
    {
     "data": {
      "image/png": "[encoded data removed]",
      "text/plain": [
       "<Figure size 432x432 with 1 Axes>"
      ]
     },
     "metadata": {
      "needs_background": "light"
     },
     "output_type": "display_data"
    }
   ],
   "source": [
    "def calc_accuracy(p, t):\n",
    "    '''Calculates the accuracy for prediction p compared to targets t.'''\n",
    "    nbr_correct = np.sum(np.around(p) == t)\n",
    "    \n",
    "    return nbr_correct/len(p)\n",
    "\n",
    "\n",
    "# Test calc_accuracy\n",
    "p_test = [0.6, 0.4, 0.05, 1]\n",
    "t_test = [1, 1, 1, 1]\n",
    "print(f'calc_accuracy passes unit tests: {0.5 == calc_accuracy(p_test, t_test)}')\n",
    "    \n",
    "def sigmoid(a):\n",
    "    '''Returns the sigmoid value of the activation a.'''\n",
    "    return 1/(1+np.exp(-a))\n",
    "\n",
    "\n",
    "def feed_forward(x, w, b):\n",
    "    '''Performs the feed-forward pass for our neuron. Return the activation.'''\n",
    "    z = x@w + b\n",
    "    return sigmoid(z)  \n",
    "   \n",
    "\n",
    "def cost_function(y, t, b_w, alpha):\n",
    "    '''\n",
    "    Calculates the cost-function for output data y and labels t. \n",
    "    Also utilizes weight regularization.\n",
    "    '''\n",
    "    cost = - np.sum( t*np.log(y) + (1-t)*np.log(1-y) )\n",
    "    reg = 1/2 * np.sum(b_w**2)\n",
    "    return cost + alpha*reg\n",
    "    \n",
    "    \n",
    "def train_neuron(train_data, test_data, epochs=50, batch_size=50, alpha=1, eta=0.01, seed=1):\n",
    "    '''Trains the neuron. Randomize weights and bias term. Use batch gradient descent.'''\n",
    "    # Set the seed\n",
    "    np.random.seed(seed)\n",
    "    \n",
    "    # Randomize the weights\n",
    "    w = 10*np.random.randn(2)\n",
    "    b = 10*np.random.randn(1)\n",
    "    \n",
    "    # Pick out the training data and the targets\n",
    "    x = train_data[:,1:]\n",
    "    t = train_data[:,0]\n",
    "    \n",
    "    # Pick out the test data\n",
    "    x_test = test_data[:,1:]\n",
    "    t_test = test_data[:,0]\n",
    "    \n",
    "    # Iterate over all instances of data\n",
    "    costs = []\n",
    "    train_accuracies = []\n",
    "    test_accuracies = []\n",
    "    for epoch in tqdm(range(epochs)):\n",
    "        # Train the network in epochs - one epoch goes through all the data\n",
    "        # Shuffle the x and t vectors at the beginning of each epoch\n",
    "        shuffle_idx = np.random.permutation(len(x))\n",
    "        assert len(np.unique(shuffle_idx)) == len(x)\n",
    "        x = x[shuffle_idx]\n",
    "        t = t[shuffle_idx]\n",
    "        \n",
    "        # Split into batches of equal size\n",
    "        x_batches = np.array_split(x, batch_size)\n",
    "        t_batches = np.array_split(t, batch_size)\n",
    "        for idx, x_b in enumerate(x_batches):\n",
    "            x_b = np.expand_dims(x_b, -1)\n",
    "            t_b = t_batches[idx]\n",
    "            \n",
    "            # Create design matrix\n",
    "            X = np.concatenate((x_b[:,0]**0, x_b[:,0], x_b[:,1]), axis=1)\n",
    "            \n",
    "            # Squeeze x_i to remove unnecessary dimension\n",
    "            x_b = np.squeeze(x_b)\n",
    "            \n",
    "            # Calculate the network output\n",
    "            y_b = feed_forward(x_b, w, b)\n",
    "            \n",
    "            # Create vector of bias and weights\n",
    "            bias_and_weights = np.concatenate((b, w), axis=0)  # [b, w]\n",
    "            \n",
    "            # Calculate the cost and do a prediction - for monitoring training\n",
    "            c_b = cost_function(y_b, t_b, bias_and_weights, alpha)\n",
    "            costs.append(c_b)\n",
    "            \n",
    "            # Update to our weights - last term is from regularizer\n",
    "            delta_bias_and_weights = (X.T).dot(t_b-y_b) - alpha*bias_and_weights\n",
    "            \n",
    "            # Update weights and biases\n",
    "            b += eta*delta_bias_and_weights[0]\n",
    "            w += eta*delta_bias_and_weights[1:]\n",
    "            \n",
    "        # Do a predict on train data set - for monitoring training.\n",
    "        train_acc = calc_accuracy(feed_forward(x, w, b), t)\n",
    "        train_accuracies.append(train_acc)\n",
    "        test_acc = calc_accuracy(feed_forward(x_test, w, b), t_test)\n",
    "        test_accuracies.append(test_acc)\n",
    "        \n",
    "    print(f'Final test accuracy was: {test_acc:.3f}')\n",
    "    fig1, ax1 = plt.subplots(figsize=(6,6))\n",
    "    ax1.plot(np.log(costs))\n",
    "    ax1.set_ylabel(r'log(cost)')\n",
    "    ax1.set_xlabel(r'Iterations')\n",
    "    ax1.grid()\n",
    "    \n",
    "    fig2, ax2 = plt.subplots(figsize=(6,6))\n",
    "    ax2.plot(train_accuracies, linewidth=2, linestyle='--', color='C0', label='Training accuracy')\n",
    "    ax2.plot(test_accuracies, linewidth=2, color='C1', label='Test accuracy')\n",
    "    ax2.set_xlabel(\"Epoch\")\n",
    "    ax2.set_ylabel(\"Accuracy\")\n",
    "    ax2.legend(loc='best')\n",
    "    ax2.grid()\n",
    "    plt.tight_layout()\n",
    "    plt.savefig('single_neuron_training.png')\n",
    "    \n",
    "    # Return the optimized weights\n",
    "    return w, b\n",
    "    \n",
    "w_star, b_star = train_neuron(train_data, test_data, seed=1)\n",
    "print(w_star)\n",
    "print(b_star)"
   ]
  },
  {
   "cell_type": "markdown",
   "metadata": {},
   "source": [
    "## The decision boundary\n",
    "The decision boundary is defined as:\n",
    "\n",
    "$$ p(T=1) = \\frac{1}{2} \\rightarrow \\frac{1}{1+e^{-a}} = \\frac{1}{2}.$$ \n",
    "This implies:\n",
    "$$ 0 = a = w \\cdot x + b = w_0 E + w_1 m + b,$$\n",
    "which gives us the equation for the decision boundary:\n",
    "$$ m = - \\frac{w_0 E + b}{w_1} $$"
   ]
  },
  {
   "cell_type": "code",
   "execution_count": 6,
   "metadata": {},
   "outputs": [],
   "source": [
    "# Generate data for scatter plot\n",
    "T = points_full[:,0]\n",
    "E = points_full[:,1]\n",
    "M = points_full[:,2]\n",
    "high_T = points_full[:,0]>Tc\n",
    "low_T = points_full[:,0]<Tc\n",
    "E_M_high = points_full[high_T][:,1:]\n",
    "E_M_low = points_full[low_T][:,1:]"
   ]
  },
  {
   "cell_type": "code",
   "execution_count": 15,
   "metadata": {},
   "outputs": [
    {
     "data": {
      "image/png": "[encoded data removed]",
      "text/plain": [
       "<Figure size 432x432 with 1 Axes>"
      ]
     },
     "metadata": {
      "needs_background": "light"
     },
     "output_type": "display_data"
    }
   ],
   "source": [
    "# Plot the data and the decision boundary\n",
    "def dec_boundary(E, w, b):\n",
    "    return -(w[0]*E+b)/w[1]\n",
    "    \n",
    "E_space = np.linspace(E.min(), E.max())\n",
    "M_space = np.linspace(M.min(), M.max())\n",
    "\n",
    "# Normalize the data to correspond to the data that was used for obtaining the weights. Then rescale\n",
    "E_norm = (E_space-E_space.mean())/E_space.std()  # Normalize E\n",
    "m_norm = dec_boundary(E_norm, w_star, b_star)  # Calculate m using weights\n",
    "dec_bound = m_norm*M_space.std() + M.mean()  # Scale back m \n",
    "\n",
    "\n",
    "fig, ax = plt.subplots(figsize=(6,6))\n",
    "ax.scatter(E_M_high[:,0],E_M_high[:,1],c='r', marker='+', label=r'$T>T_c$')\n",
    "ax.scatter(E_M_low[:,0],E_M_low[:,1],c='b', marker='s', label=r'$T<T_c$')\n",
    "ax.plot(E_space, dec_bound, c='k', linewidth=2, linestyle='--', label='Decision boundary')\n",
    "ax.set_xlabel(\"$E$\")\n",
    "ax.set_ylabel(\"$|m|$\")\n",
    "ax.grid()\n",
    "ax.legend(loc='best')\n",
    "plt.tight_layout()\n",
    "plt.savefig('single_neuron_dec_bound.png')\n",
    "plt.show()"
   ]
  },
  {
   "cell_type": "code",
   "execution_count": null,
   "metadata": {},
   "outputs": [],
   "source": []
  }
 ],
 "metadata": {
  "kernelspec": {
   "display_name": "Python 3",
   "language": "python",
   "name": "python3"
  },
  "language_info": {
   "codemirror_mode": {
    "name": "ipython",
    "version": 3
   },
   "file_extension": ".py",
   "mimetype": "text/x-python",
   "name": "python",
   "nbconvert_exporter": "python",
   "pygments_lexer": "ipython3",
   "version": "3.7.4"
  }
 },
 "nbformat": 4,
 "nbformat_minor": 2
}
