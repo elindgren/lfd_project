{
 "cells": [
  {
   "cell_type": "markdown",
   "metadata": {},
   "source": [
    "### Imports"
   ]
  },
  {
   "cell_type": "code",
   "execution_count": null,
   "metadata": {},
   "outputs": [],
   "source": [
    "%matplotlib inline\n",
    "\n",
    "import os\n",
    "import time\n",
    "import pickle\n",
    "from multiprocessing import Pool as ThreadPool\n",
    "\n",
    "import numpy as np\n",
    "\n",
    "from scipy.optimize import curve_fit\n",
    "import matplotlib.pyplot as plt\n",
    "from sklearn.model_selection import train_test_split\n",
    "\n",
    "from tensorflow import keras\n",
    "from tensorflow.keras.models import Sequential\n",
    "from tensorflow.keras.layers import Dense, Dropout, Flatten\n",
    "from tensorflow.keras.layers import Conv2D, MaxPooling2D\n",
    "\n",
    "from tqdm import tqdm\n",
    "from tqdm import tqdm_notebook\n",
    "\n",
    "from sklearn.metrics import accuracy_score\n",
    "\n",
    "np.random.seed(42)\n",
    "\n",
    "# Custom imports\n",
    "from lattice import Lattice\n",
    "\n",
    "# Set plot params\n",
    "plt.rc('font', size=14)          # controls default text sizes\n",
    "plt.rc('axes', titlesize=14)     # fontsize of the axes title\n",
    "plt.rc('axes', labelsize=16)    # fontsize of the x and y labels\n",
    "plt.rc('xtick', labelsize=14)    # fontsize of the tick labels\n",
    "plt.rc('ytick', labelsize=14)    # fontsize of the tick labels\n",
    "plt.rc('legend', fontsize=14)    # legend fontsize"
   ]
  },
  {
   "cell_type": "markdown",
   "metadata": {},
   "source": [
    "### Generate data"
   ]
  },
  {
   "cell_type": "code",
   "execution_count": 2,
   "metadata": {},
   "outputs": [
    {
     "name": "stderr",
     "output_type": "stream",
     "text": [
      "100%|██████████████████████████████████████████████████████████████| 60/60 [01:02<00:00,  1.05s/it]\n"
     ]
    }
   ],
   "source": [
    "# 10 x 10 lattice\n",
    "# 60 temperatures, 500 thermalization iterations\n",
    "\n",
    "# For a temperature range, thermalize a lattice, then\n",
    "# take a few hundred steps, recording energy and magnetization.\n",
    "# Store the means to plot next.\n",
    "# This takes about 60s with one modern core.\n",
    "\n",
    "# Thermalization and measurement steps\n",
    "ntherm = 500\n",
    "nmeasure = 200\n",
    "\n",
    "# points = array with (T, mean(E), abs(mean(M)), var(E))\n",
    "# with the mean and variance evaluated for a list of many temperatures\n",
    "points = []\n",
    "# Storing nmeasure / nsparse data points\n",
    "nsparse = 10\n",
    "# points_full = array with (T, E, abs(M))\n",
    "# for several different configurations per temperature\n",
    "points_full=[]\n",
    "for T in tqdm(np.arange(4.0,1.0,-0.05)):\n",
    "    lat = Lattice(N=10,T=T)\n",
    "    for _ in range(ntherm):\n",
    "        lat.step()\n",
    "    Es = []\n",
    "    Ms = []\n",
    "\n",
    "    for istep in range(nmeasure): \n",
    "        lat.step()\n",
    "        Es.append(lat.get_energy())\n",
    "        Ms.append(lat.get_avg_magnetization())\n",
    "        if (istep%nsparse==0):\n",
    "            points_full.append((T,Es[-1],np.abs(Ms[-1])))           \n",
    "    Es = np.array(Es)\n",
    "    Ms = np.array(Ms)\n",
    "    points.append((T,Es.mean(),np.abs(Ms.mean()),Es.var()))\n",
    "points = np.array(points)\n",
    "points_full = np.array(points_full)"
   ]
  },
  {
   "cell_type": "code",
   "execution_count": 3,
   "metadata": {},
   "outputs": [
    {
     "name": "stdout",
     "output_type": "stream",
     "text": [
      "Critical temperature: Tc = 2.2692\n"
     ]
    }
   ],
   "source": [
    "# Calculate critical temperature\n",
    "Tc = 2 / np.log(1+np.sqrt(2))\n",
    "print(f\"Critical temperature: Tc = {Tc:.4f}\")"
   ]
  },
  {
   "cell_type": "markdown",
   "metadata": {},
   "source": [
    "We want to use the full data set, points-full, as our dataset to the network. This is because this is the full data set."
   ]
  },
  {
   "cell_type": "code",
   "execution_count": 8,
   "metadata": {},
   "outputs": [],
   "source": [
    "# Normalize data. Remove mean and divide with standard deviation\n",
    "def normalize(train_data, test_data):\n",
    "    '''\n",
    "    Normalize train_data and test_data using the mean and standard deviation from the \n",
    "    train_data set. This is as to not contaminate the test_data and introduce correlations. \n",
    "    '''\n",
    "    # Iterate over all columns in training data, and normalize all data using training data!\n",
    "    for i in range(1,2+1):\n",
    "        # We want to normalize columns 1 and 2 - not T, will be one-hot encoded!\n",
    "        mean = train_data[:,i].mean(axis=0)\n",
    "        std = train_data[:,i].std(axis=0)\n",
    "        assert (std-0) > 1e-5  # Check so standard deviation is not zero!\n",
    "        train_data[:,i] -= mean\n",
    "        train_data[:,i] /= std\n",
    "        test_data[:,i] -= mean\n",
    "        test_data[:,i] /= std\n",
    "    return train_data, test_data\n",
    "\n",
    "\n",
    "def data_split(data, train_fraction, seed, shuffle):\n",
    "    '''Shuffle the dataset, and then split into two fractions'''\n",
    "    if shuffle:\n",
    "        np.random.shuffle(data)  # Shuffles along the first dimension, i.e. along the row dimension. \n",
    "    # Split into two parts, with the train_set being train_frac\n",
    "    split_idx = int(data.shape[0]*train_fraction)\n",
    "    test_data = data[:split_idx]\n",
    "    train_data = data[split_idx:]\n",
    "    return train_data, test_data\n",
    "\n",
    "\n",
    "def one_hot_labels(data, Tc):\n",
    "    '''One hot encodes the first column in data. Use boolean expressions.'''\n",
    "    bool_arr = data[:,0] > Tc\n",
    "    data[:,0] = bool_arr\n",
    "    return data\n",
    "    \n",
    "    \n",
    "def prepare_data(full_data, Tc, test_fraction=0.3, seed=1, shuffle=True):\n",
    "    '''\n",
    "    One-hot encodes T-column as 0 if T < Tc and 1 if T > Tc.  \n",
    "    Shuffles and splits the dataset into a training and a test set. \n",
    "    Finally normalizes the test and train sets using the train set.\n",
    "    '''\n",
    "    np.random.seed(seed)\n",
    "    data = np.copy(full_data) # Make a copy, as not to overwrite original data\n",
    "    data = one_hot_labels(data, Tc)  # One-hot encode labels\n",
    "    train_data, test_data = data_split(data, test_fraction, seed, shuffle)  # Shuffle and split the dataset\n",
    "    train_data, test_data = normalize(train_data, test_data)\n",
    "    \n",
    "    return(train_data, test_data)\n",
    "    \n",
    "train_data, test_data = prepare_data(points_full, Tc, 0.3, seed=2)"
   ]
  },
  {
   "cell_type": "code",
   "execution_count": 5,
   "metadata": {},
   "outputs": [],
   "source": [
    "#****************** TEST CELL *******************\n",
    "# Normalize data. Remove mean and divide with standard deviation\n",
    "def normalize(train_data, test_data):\n",
    "    '''\n",
    "    Normalize train_data and test_data using the mean and standard deviation from the \n",
    "    train_data set. This is as to not contaminate the test_data and introduce correlations. \n",
    "    '''\n",
    "    # Iterate over all columns in training data, and normalize all data using training data!\n",
    "    for i in range(1,2+1):\n",
    "        # We want to normalize columns 1 and 2 - not T, will be one-hot encoded!\n",
    "        mean = train_data[:,i].mean(axis=0)\n",
    "        std = train_data[:,i].std(axis=0)\n",
    "        assert (std-0) > 1e-5  # Check so standard deviation is not zero!\n",
    "        train_data[:,i] -= mean\n",
    "        train_data[:,i] /= std\n",
    "        test_data[:,i] -= mean\n",
    "        test_data[:,i] /= std\n",
    "    return train_data, test_data\n",
    "\n",
    "\n",
    "def data_split(one_hot_data, data, test_fraction, seed, shuffle):\n",
    "    '''Shuffle the dataset, and then split into two fractions'''\n",
    "    if shuffle:\n",
    "        np.random.shuffle(data)  # Shuffles along the first dimension, i.e. along the row dimension. \n",
    "    # Split into two parts, with the train_set being train_frac\n",
    "    split_idx = int(data.shape[0]*test_fraction)\n",
    "    test_data = one_hot_data[:split_idx]\n",
    "    test_data_orig = data[:split_idx]\n",
    "    train_data = one_hot_data[split_idx:]\n",
    "    train_data_orig = data[split_idx:] \n",
    "    return train_data, test_data, train_data_orig, test_data_orig\n",
    "\n",
    "\n",
    "def one_hot_labels(data, Tc):\n",
    "    '''One hot encodes the first column in data. Use boolean expressions.'''\n",
    "    one_hot_data = np.copy(data)\n",
    "    bool_arr = data[:,0] > Tc\n",
    "    one_hot_data[:,0] = bool_arr\n",
    "    return one_hot_data\n",
    "    \n",
    "    \n",
    "def prepare_data(full_data, Tc, test_fraction=0.3, seed=1, shuffle=True):\n",
    "    '''\n",
    "    One-hot encodes T-column as 0 if T < Tc and 1 if T > Tc.  \n",
    "    Shuffles and splits the dataset into a training and a test set. \n",
    "    Finally normalizes the test and train sets using the train set.\n",
    "    '''\n",
    "    np.random.seed(seed)\n",
    "    data = np.copy(full_data) # Make a copy, as not to overwrite original data\n",
    "    one_hot_data = one_hot_labels(data, Tc)  # One-hot encode labels\n",
    "    train_data, test_data, train_data_orig, test_data_orig = data_split(one_hot_data, data, test_fraction, seed, shuffle)  # Shuffle and split the dataset\n",
    "    train_data, test_data = normalize(train_data, test_data)\n",
    "    \n",
    "    return train_data, test_data, train_data_orig, test_data_orig\n",
    "    \n",
    "train_data, test_data, train_data_orig, test_data_orig = prepare_data(points_full, Tc, 0.3, seed=1)\n",
    "#****************** TEST CELL *******************"
   ]
  },
  {
   "cell_type": "markdown",
   "metadata": {},
   "source": [
    "Create the neuron. The weight vector $w$ has shape $(n_{features})$, which in our case is 2, corresponding to $E$ and $|m|$. $b$ is our bias term for our neuron."
   ]
  },
  {
   "cell_type": "markdown",
   "metadata": {},
   "source": [
    "Our cost function is cross-entropy, with a regularizer term with weight $\\alpha$. With our sigmoid activation function, our cross-entropy for our $i$ instances of data becomes:\n",
    "\n",
    "$$ C(w) = - \\sum_i t_i \\log{\\frac{e^{w\\cdot x_i + b}}{1+e^{w\\cdot x_i + b}}} + (1-t_i) \\log \\left(1 + \\frac{e^{w\\cdot x_i + b}}{1+e^{w\\cdot x_i + b}} \\right) = $$\n",
    "\n",
    "$$ =  - \\sum_i t_i (w\\cdot x_i + b) - t_i \\log{\\left(1+e^{w\\cdot x_i + b}\\right)} + (1-t_i) \\log(1) - (1-t_i) \\log{\\left(1+e^{w\\cdot x_i + b}\\right)}$$ \n",
    "\n",
    "$$ = - \\sum_i t_i (w\\cdot x_i + b) - \\log{\\left(1+e^{w\\cdot x_i + b}\\right)}.$$\n",
    "\n",
    "If we take the gradient with regards to $b$, we obtain:\n",
    "\n",
    "$$ - \\sum_i t_i - \\frac{e^{w\\cdot x_i + b}}{1+e^{w\\cdot x_i + b}} = -\\sum_i t_i-y_i = - \\sum_i e_i,$$\n",
    "\n",
    "and if we take the gradient with regards to $w$ we obtain:\n",
    "\n",
    "$$ - \\sum_i t_i x_i - \\frac{x_i e^{w\\cdot x_i + b}}{1+e^{w\\cdot x_i + b}} = -\\sum_i x_i(t_i-y_i) = - \\vec{x}^T \\cdot \\vec{e} .$$\n",
    "\n",
    "We can summarize the total gradient in terms of the design matrix $X=(\\vec{1}, \\vec{E}, \\vec{m})$ of shape $(n_{instances}, n_{features})$:\n",
    "\n",
    "$$ \\nabla C = - \\vec{X}^T \\cdot \\vec{e} $$\n",
    "\n",
    "where  $e$ has shape $(n_instances)$. The contribution to both of these terms is the gradient of the regularizer:\n",
    "\n",
    "$$ E(w,b) = \\frac{1}{2} \\left( \\sum_i w_i^2 + b^2 \\right) => \\nabla E = \\vec{[b, w]},$$\n",
    "\n",
    "where $\\vec{[b, w]}$ is to be interpreted as bias term appended to the weight vector $w$. The total gradient is thus:\n",
    "\n",
    "$$ \\nabla C_w = - \\vec{X}^T \\cdot \\vec{e} + \\vec{[b, w]}.$$\n",
    "\n",
    "The shift to our weights is hence, with learning rate $eta$: \n",
    "\n",
    "$$ \\delta w = -\\eta \\nabla C_w = \\eta \\left(\\vec{X}^T \\cdot \\vec{e} - \\vec{[b, w]} \\right)$$"
   ]
  },
  {
   "cell_type": "code",
   "execution_count": 9,
   "metadata": {},
   "outputs": [
    {
     "name": "stdout",
     "output_type": "stream",
     "text": [
      "calc_accuracy passes unit tests: True\n"
     ]
    },
    {
     "data": {
      "application/vnd.jupyter.widget-view+json": {
       "model_id": "1ec2bddfcc8547edaef7bad130548b49",
       "version_major": 2,
       "version_minor": 0
      },
      "text/plain": [
       "HBox(children=(IntProgress(value=0, max=1000), HTML(value='')))"
      ]
     },
     "metadata": {},
     "output_type": "display_data"
    },
    {
     "name": "stdout",
     "output_type": "stream",
     "text": [
      "\n",
      "Final test accuracy was: 0.914\n",
      "[ 1.30586846 -1.26621618]\n",
      "[0.28530771]\n"
     ]
    },
    {
     "data": {
      "image/png": "[encoded data removed]",
      "text/plain": [
       "<Figure size 720x432 with 1 Axes>"
      ]
     },
     "metadata": {
      "needs_background": "light"
     },
     "output_type": "display_data"
    },
    {
     "data": {
      "image/png": "[encoded data removed]",
      "text/plain": [
       "<Figure size 720x432 with 1 Axes>"
      ]
     },
     "metadata": {
      "needs_background": "light"
     },
     "output_type": "display_data"
    }
   ],
   "source": [
    "def calc_accuracy(p, t):\n",
    "    '''Calculates the accuracy for prediction p compared to targets t.'''\n",
    "    nbr_correct = np.sum(np.around(p) == t)\n",
    "    return nbr_correct/len(p)\n",
    "\n",
    "# Test calc_accuracy\n",
    "p_test = [0.6, 0.4, 0.05, 1]\n",
    "t_test = [1, 1, 1, 1]\n",
    "print(f'calc_accuracy passes unit tests: {0.5 == calc_accuracy(p_test, t_test)}')\n",
    "    \n",
    "\n",
    "def sigmoid(a):\n",
    "    '''¨Returns the sigmoid value of the activation a.'''\n",
    "    return 1/(1+np.exp(-a))\n",
    "\n",
    "\n",
    "def feed_forward(x, w, b):\n",
    "    '''Performs the feed-forward pass for our neuron. Return the activation.'''\n",
    "    z = x@w + b\n",
    "    return sigmoid(z)  \n",
    "   \n",
    "\n",
    "def cost_function(y, t, b_w, alpha):\n",
    "    '''\n",
    "    Calculates the cost-function for output data y and labels t. \n",
    "    Also utilizes weight regularization.\n",
    "    '''\n",
    "    cost = - np.sum( t*np.log(y) + (1-t)*np.log(1-y) )\n",
    "    reg = 1/2 * np.sum(b_w**2)\n",
    "    return cost + alpha*reg\n",
    "    \n",
    "    \n",
    "def train_neuron(train_data, test_data, epochs=1000, batch_size=50, alpha=1, eta=0.01, seed=1):\n",
    "    '''Trains the neuron. Randomize weights and bias term. Use batch gradient descent.'''\n",
    "    # Set the seed\n",
    "    np.random.seed(seed)\n",
    "    # Randomize the weights\n",
    "    w = 100*np.random.uniform(size=2)  # TODO change start?\n",
    "    b = 100*np.random.uniform(size=1)\n",
    "    # Pick out the training data and the targets\n",
    "    x = train_data[:,1:]\n",
    "    t = train_data[:,0]\n",
    "    # Pick out the test data\n",
    "    x_test = test_data[:,1:]\n",
    "    t_test = test_data[:,0]\n",
    "    # Iterate over all instances of data\n",
    "    costs = []\n",
    "    train_accuracies = []\n",
    "    test_accuracies = []\n",
    "    for epoch in tqdm_notebook(range(epochs)):\n",
    "        # Train the network in epochs - one epoch goes through all the data\n",
    "        # Shuffle the x and t vectors at the beginning of each epoch\n",
    "        shuffle_idx = np.random.randint(0, len(x)-1, len(x))\n",
    "        x = x[shuffle_idx]\n",
    "        t = t[shuffle_idx]\n",
    "        \n",
    "        # Split into batches of equal size\n",
    "        x_batches = np.array_split(x, batch_size)\n",
    "        t_batches = np.array_split(t, batch_size)\n",
    "        for idx, x_b in enumerate(x_batches):\n",
    "            x_b = np.expand_dims(x_b, -1)\n",
    "            t_b = t_batches[idx]\n",
    "            \n",
    "            # Create design matrix\n",
    "            X = np.concatenate((x_b[:,0]**0, x_b[:,0], x_b[:,1]), axis=1)\n",
    "            \n",
    "            # Squeeze x_i to remove unnecessary dimension\n",
    "            x_b = np.squeeze(x_b)\n",
    "            \n",
    "            # Calculate the network output\n",
    "            y_b = feed_forward(x_b, w, b)\n",
    "            \n",
    "            # Create vector of bias and weights\n",
    "            bias_and_weights = np.concatenate((b, w), axis=0)  # [b, w]\n",
    "            \n",
    "            # Calculate the cost and do a prediction - for monitoring training\n",
    "            c_b = cost_function(y_b, t_b, bias_and_weights, alpha)\n",
    "            costs.append(c_b)\n",
    "            \n",
    "            # Update to our weights - last term is from regularizer\n",
    "            delta_bias_and_weights = (X.T).dot(t_b-y_b) - alpha*bias_and_weights\n",
    "            \n",
    "            # Update weights and biases\n",
    "            b += eta*delta_bias_and_weights[0]\n",
    "            w += eta*delta_bias_and_weights[1:]\n",
    "            \n",
    "        # Do a predict on train data set, for monitoring training.\n",
    "        train_acc = calc_accuracy(feed_forward(x, w, b), t)\n",
    "        train_accuracies.append(train_acc)\n",
    "        test_acc = calc_accuracy(feed_forward(x_test, w, b), t_test)\n",
    "        test_accuracies.append(test_acc)\n",
    "        # TODO add losses?\n",
    "    print(f'Final test accuracy was: {test_acc:.3f}')\n",
    "    fig1, ax1 = plt.subplots(figsize=(10,6))\n",
    "    ax1.plot(np.log(costs))\n",
    "    ax1.set_ylabel(r'log(cost)')\n",
    "    ax1.set_xlabel(r'Iterations')\n",
    "    ax1.grid()\n",
    "    \n",
    "    fig2, ax2 = plt.subplots(figsize=(10,6))\n",
    "    ax2.plot(train_accuracies, label='Training accuracy')\n",
    "    ax2.plot(test_accuracies, label='Test accuracy')\n",
    "    ax2.set_xlabel(\"Epoch\")\n",
    "    ax2.set_ylabel(\"Accuracy\")\n",
    "    ax2.legend(loc='best')\n",
    "    ax2.grid()\n",
    "    # Return the optimized weights\n",
    "    return w, b\n",
    "    \n",
    "w_star, b_star = train_neuron(train_data, test_data)\n",
    "print(w_star)\n",
    "print(b_star)"
   ]
  },
  {
   "cell_type": "markdown",
   "metadata": {},
   "source": [
    "#### Todo talk with Simon about this - use full data set?"
   ]
  },
  {
   "cell_type": "code",
   "execution_count": 7,
   "metadata": {},
   "outputs": [
    {
     "ename": "ValueError",
     "evalue": "too many values to unpack (expected 2)",
     "output_type": "error",
     "traceback": [
      "\u001b[1;31m---------------------------------------------------------------------------\u001b[0m",
      "\u001b[1;31mValueError\u001b[0m                                Traceback (most recent call last)",
      "\u001b[1;32m<ipython-input-7-502fda2937da>\u001b[0m in \u001b[0;36m<module>\u001b[1;34m\u001b[0m\n\u001b[0;32m     19\u001b[0m \u001b[1;31m# Prepare a new decision set of data - don't shuffle to corrolate to E and m\u001b[0m\u001b[1;33m\u001b[0m\u001b[1;33m\u001b[0m\u001b[1;33m\u001b[0m\u001b[0m\n\u001b[0;32m     20\u001b[0m \u001b[1;31m# This is because we need it to be normalized!\u001b[0m\u001b[1;33m\u001b[0m\u001b[1;33m\u001b[0m\u001b[1;33m\u001b[0m\u001b[0m\n\u001b[1;32m---> 21\u001b[1;33m \u001b[0mdecision_set\u001b[0m\u001b[1;33m,\u001b[0m \u001b[0m_\u001b[0m  \u001b[1;33m=\u001b[0m \u001b[0mprepare_data\u001b[0m\u001b[1;33m(\u001b[0m\u001b[0mpoints_full\u001b[0m\u001b[1;33m,\u001b[0m \u001b[0mTc\u001b[0m\u001b[1;33m,\u001b[0m \u001b[0mtest_fraction\u001b[0m\u001b[1;33m=\u001b[0m\u001b[1;36m0\u001b[0m\u001b[1;33m,\u001b[0m \u001b[0mseed\u001b[0m\u001b[1;33m=\u001b[0m\u001b[1;36m1\u001b[0m\u001b[1;33m,\u001b[0m \u001b[0mshuffle\u001b[0m\u001b[1;33m=\u001b[0m\u001b[1;32mFalse\u001b[0m\u001b[1;33m)\u001b[0m\u001b[1;33m\u001b[0m\u001b[1;33m\u001b[0m\u001b[0m\n\u001b[0m\u001b[0;32m     22\u001b[0m \u001b[0mnorm_e_m\u001b[0m \u001b[1;33m=\u001b[0m \u001b[0mdecision_set\u001b[0m\u001b[1;33m[\u001b[0m\u001b[1;33m:\u001b[0m\u001b[1;33m,\u001b[0m\u001b[1;36m1\u001b[0m\u001b[1;33m:\u001b[0m\u001b[1;33m]\u001b[0m  \u001b[1;31m# Extract just E and m data\u001b[0m\u001b[1;33m\u001b[0m\u001b[1;33m\u001b[0m\u001b[0m\n\u001b[0;32m     23\u001b[0m \u001b[1;33m\u001b[0m\u001b[0m\n",
      "\u001b[1;31mValueError\u001b[0m: too many values to unpack (expected 2)"
     ]
    }
   ],
   "source": [
    "# OLD UNNECESSARY CODE\n",
    "\n",
    "def find_idx_nearest(array, value):\n",
    "    arr = np.asarray(array)\n",
    "    idx = (np.abs(arr - value)).argmin()\n",
    "    return idx\n",
    "\n",
    "\n",
    "# Plot the decision boundary - it will be a line in E-m space\n",
    "T = points_full[:,0]\n",
    "E = points_full[:,1]\n",
    "M = points_full[:,2]\n",
    "high_T = points_full[:,0]>Tc\n",
    "low_T = points_full[:,0]<Tc\n",
    "E_M_high = points_full[high_T][:,1:]\n",
    "E_M_low = points_full[low_T][:,1:]\n",
    "\n",
    "\n",
    "# Prepare a new decision set of data - don't shuffle to corrolate to E and m\n",
    "# This is because we need it to be normalized!\n",
    "decision_set, _  = prepare_data(points_full, Tc, test_fraction=0, seed=1, shuffle=False)\n",
    "norm_e_m = decision_set[:,1:]  # Extract just E and m data\n",
    "\n",
    "# Iterate over all E and m values; save the idx closest to 0.5\n",
    "e_norm = norm_e_m[:,0]\n",
    "m_norm = norm_e_m[:,1]\n",
    "decision_boundary_idx = []\n",
    "\n",
    "predictions = np.zeros((len(e_norm), len(m_norm)))\n",
    "\n",
    "for i, e in tqdm_notebook(enumerate(e_norm)):\n",
    "    for j, m in enumerate(m_norm):\n",
    "        predictions[i,j] = feed_forward([e,m], w_star, b_star)\n",
    "    # Extract the idx j closest to p=0.5 for this e\n",
    "    idx = find_idx_nearest(predictions[i,:], 0.5) \n",
    "    decision_boundary_idx.append(idx)\n",
    "\n",
    "# # We want to create a meshgrid - for all m, we want to know at which E the prediction is at 0.5\n",
    "# ee, mm = np.meshgrid(norm_e_m[:,0], norm_e_m[:,1])\n",
    "# decision_input = np.concatenate((ee.ravel(), mm.ravel()))\n",
    "\n",
    "# # Create a matrix with each values for ee and mm - goes through all combinations\n",
    "# decision_input = np.c_[ee.ravel(), mm.ravel()]\n",
    "\n",
    "# # Create a refernce, non-normalized, matrix, a table to look up the E and m values in\n",
    "# ee_ref, mm_ref = np.meshgrid(E, m)\n",
    "# reference_matrix = np.c_[ee_ref.ravel(), mm_ref.ravel()]\n",
    "\n",
    "# # Do a prediction\n",
    "# decision_output = feed_forward(decision_input, w_star, b_star)\n",
    "\n",
    "# # Find index closest to 0.5\n",
    "# idxs = find_idx_nearest()\n"
   ]
  },
  {
   "cell_type": "markdown",
   "metadata": {},
   "source": [
    "The decision boundary is defined as:\n",
    "\n",
    "$$ p(T=1) = \\frac{1}{2} \\rightarrow \\frac{1}{1+e^{-a} = \\frac{1}{2}}.$$ \n",
    "This implies:\n",
    "$$ 0 = a = w \\cdot x + b = w_0 E + w_1 m + b,$$\n",
    "which gives us the equation for the decision boundary:\n",
    "$$ m = - \\frac{w_0}{w_1}E - b $$"
   ]
  },
  {
   "cell_type": "code",
   "execution_count": null,
   "metadata": {},
   "outputs": [],
   "source": [
    "print(E.shape)\n",
    "print(M.shape) \n",
    "print(E[decision_boundary_idx])"
   ]
  },
  {
   "cell_type": "code",
   "execution_count": null,
   "metadata": {},
   "outputs": [],
   "source": [
    "# Plot the data and the decision boundary\n",
    "def dec_boundary(E, w, b):\n",
    "    return -w[0]/w[1]*E - b\n",
    "    \n",
    "E_space = np.linspace(E.min(), E.max())\n",
    "M_space = np.linspace(M.min(), M.max())\n",
    "# E_space norm\n",
    "E_norm = (E_space-E_space.mean())/E_space.std()  # Normalize E\n",
    "m_norm = dec_boundary(E_norm, w_star, b_star)  # Calculate m using weights\n",
    "dec_bound = m_norm*M_space.std() + M.mean()  # Scale back m \n",
    "\n",
    "\n",
    "fig, ax = plt.subplots(figsize=(10,6))\n",
    "ax.scatter(E_M_high[:,0],E_M_high[:,1],c='r', label=r'$T>T_c$')\n",
    "ax.scatter(E_M_low[:,0],E_M_low[:,1],c='b', label=r'$T<T_c$')\n",
    "ax.plot(E_space, dec_bound, c='k', label='Decision boundary')\n",
    "ax.scatter(E, M[decision_boundary_idx], c='c', marker='.', label='Old decision boundary')\n",
    "ax.set_xlabel(\"$E$\")\n",
    "ax.set_ylabel(\"$|m|$\")\n",
    "ax.grid()\n",
    "ax.legend(loc='best')\n",
    "\n"
   ]
  },
  {
   "cell_type": "markdown",
   "metadata": {},
   "source": [
    "### Extra - Predict the critical temperature\n",
    "Note - This fit doesn't work well if only evaluated on the test set, since the split is bad. Here it is evaluated for **all** data."
   ]
  },
  {
   "cell_type": "code",
   "execution_count": null,
   "metadata": {},
   "outputs": [],
   "source": [
    "# Create a heatmap to see which is more plausible\n",
    "\n",
    "\n",
    "fig, ax = plt.subplots(figsize=(10,10))\n",
    "heatmap, _, _, _ = ax.hist2d(E_M_high[:,0],E_M_high[:,1], bins=100)"
   ]
  },
  {
   "cell_type": "code",
   "execution_count": null,
   "metadata": {},
   "outputs": [],
   "source": [
    "def sigmoid_fun(x, a, b):\n",
    "    '''a is scale, b is location. Location is where the curve crosses 0.5.'''\n",
    "    return 1/(1+np.exp(-a*(x-b)))\n",
    "\n",
    "\n",
    "#T = test_data_orig[:,0]  \n",
    "T = points_full[:,0]\n",
    "# Make a prediction on the test set. These corresponds to our temperatures T\n",
    "T_pred = (feed_forward(norm_e_m, w_star, b_star)).squeeze()  # Squeeze the unnecessary dimension from predict\n",
    "\n",
    "# Fit a sigmoid to our predictions\n",
    "popt, pcov = curve_fit(sigmoid_fun, T, T_pred, p0=[3, 1], method='dogbox')\n",
    "t_c_fit = popt[1]\n",
    "print(f'The predicted critical temperature is {t_c_fit:.2f} K. The true critical temperature is {Tc:.2f} K.')\n",
    "\n",
    "#res = minimize_scalar(objective, bracket=(4, 10), args=tuple(popt2))\n",
    "\n",
    "fig, ax = plt.subplots(figsize=(10,6))\n",
    "ax.scatter(T, T_pred, marker='.', c='k', alpha=0.3, label='Predictions')\n",
    "T_space = np.linspace(1, 5, 100)\n",
    "ax.plot(T_space, sigmoid_fun(T_space, popt[0], popt[1]), color='m', linewidth=3, label=\"Sigmoid fit\")\n",
    "ax.axvline(t_c_fit, color='b', label=fr'$T_c$ = {t_c_fit:.2f} K')\n",
    "ax.set_xlabel(r'$T$')\n",
    "ax.set_ylabel(r'$p(T=1)$')\n",
    "ax.set_title('Single neuron sigmoid fit')\n",
    "ax.grid()\n",
    "ax.legend(loc='best')"
   ]
  },
  {
   "cell_type": "code",
   "execution_count": null,
   "metadata": {},
   "outputs": [],
   "source": []
  },
  {
   "cell_type": "code",
   "execution_count": null,
   "metadata": {},
   "outputs": [],
   "source": []
  }
 ],
 "metadata": {
  "kernelspec": {
   "display_name": "Python 3",
   "language": "python",
   "name": "python3"
  },
  "language_info": {
   "codemirror_mode": {
    "name": "ipython",
    "version": 3
   },
   "file_extension": ".py",
   "mimetype": "text/x-python",
   "name": "python",
   "nbconvert_exporter": "python",
   "pygments_lexer": "ipython3",
   "version": "3.7.3"
  }
 },
 "nbformat": 4,
 "nbformat_minor": 2
}
