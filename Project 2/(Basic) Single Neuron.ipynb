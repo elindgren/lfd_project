{
 "cells": [
  {
   "cell_type": "markdown",
   "metadata": {},
   "source": [
    "### Imports"
   ]
  },
  {
   "cell_type": "code",
   "execution_count": 218,
   "metadata": {},
   "outputs": [],
   "source": [
    "%matplotlib inline\n",
    "\n",
    "import os\n",
    "import time\n",
    "import pickle\n",
    "from multiprocessing import Pool as ThreadPool\n",
    "\n",
    "import numpy as np\n",
    "\n",
    "from scipy.optimize import curve_fit\n",
    "import matplotlib.pyplot as plt\n",
    "from sklearn.model_selection import train_test_split\n",
    "\n",
    "from tensorflow import keras\n",
    "from tensorflow.keras.models import Sequential\n",
    "from tensorflow.keras.layers import Dense, Dropout, Flatten\n",
    "from tensorflow.keras.layers import Conv2D, MaxPooling2D\n",
    "\n",
    "from tqdm import tqdm\n",
    "from tqdm import tqdm_notebook\n",
    "\n",
    "from sklearn.metrics import accuracy_score\n",
    "\n",
    "np.random.seed(42)\n",
    "\n",
    "# Custom imports\n",
    "from lattice import Lattice\n",
    "\n",
    "# Set plot params\n",
    "plt.rc('font', size=14)          # controls default text sizes\n",
    "plt.rc('axes', titlesize=14)     # fontsize of the axes title\n",
    "plt.rc('axes', labelsize=16)    # fontsize of the x and y labels\n",
    "plt.rc('xtick', labelsize=14)    # fontsize of the tick labels\n",
    "plt.rc('ytick', labelsize=14)    # fontsize of the tick labels\n",
    "plt.rc('legend', fontsize=14)    # legend fontsize"
   ]
  },
  {
   "cell_type": "markdown",
   "metadata": {},
   "source": [
    "### Generate data"
   ]
  },
  {
   "cell_type": "code",
   "execution_count": 171,
   "metadata": {},
   "outputs": [
    {
     "name": "stderr",
     "output_type": "stream",
     "text": [
      "100%|███████████████████████████████████████████████████████████████████████████████| 60/60 [00:29<00:00,  2.02it/s]\n"
     ]
    }
   ],
   "source": [
    "# 10 x 10 lattice\n",
    "# 60 temperatures, 500 thermalization iterations\n",
    "\n",
    "# For a temperature range, thermalize a lattice, then\n",
    "# take a few hundred steps, recording energy and magnetization.\n",
    "# Store the means to plot next.\n",
    "# This takes about 60s with one modern core.\n",
    "\n",
    "# Thermalization and measurement steps\n",
    "ntherm = 500\n",
    "nmeasure = 200\n",
    "\n",
    "# points = array with (T, mean(E), abs(mean(M)), var(E))\n",
    "# with the mean and variance evaluated for a list of many temperatures\n",
    "points = []\n",
    "# Storing nmeasure / nsparse data points\n",
    "nsparse = 10\n",
    "# points_full = array with (T, E, abs(M))\n",
    "# for several different configurations per temperature\n",
    "points_full=[]\n",
    "for T in tqdm(np.arange(4.0,1.0,-0.05)):\n",
    "    lat = Lattice(N=10,T=T)\n",
    "    for _ in range(ntherm):\n",
    "        lat.step()\n",
    "    Es = []\n",
    "    Ms = []\n",
    "\n",
    "    for istep in range(nmeasure): \n",
    "        lat.step()\n",
    "        Es.append(lat.get_energy())\n",
    "        Ms.append(lat.get_avg_magnetization())\n",
    "        if (istep%nsparse==0):\n",
    "            points_full.append((T,Es[-1],np.abs(Ms[-1])))           \n",
    "    Es = np.array(Es)\n",
    "    Ms = np.array(Ms)\n",
    "    points.append((T,Es.mean(),np.abs(Ms.mean()),Es.var()))\n",
    "points = np.array(points)\n",
    "points_full = np.array(points_full)"
   ]
  },
  {
   "cell_type": "code",
   "execution_count": 172,
   "metadata": {},
   "outputs": [
    {
     "name": "stdout",
     "output_type": "stream",
     "text": [
      "Critical temperature: Tc = 2.2692\n"
     ]
    }
   ],
   "source": [
    "# Calculate critical temperature\n",
    "Tc = 2 / np.log(1+np.sqrt(2))\n",
    "print(f\"Critical temperature: Tc = {Tc:.4f}\")"
   ]
  },
  {
   "cell_type": "markdown",
   "metadata": {},
   "source": [
    "We want to use the full data set, points-full, as our dataset to the network. This is because this is the full data set."
   ]
  },
  {
   "cell_type": "code",
   "execution_count": 231,
   "metadata": {},
   "outputs": [
    {
     "name": "stdout",
     "output_type": "stream",
     "text": [
      "[1 1 1 ... 0 0 0]\n",
      "[[ 1.00e+00 -1.12e+02  2.20e-01]\n",
      " [ 1.00e+00 -1.68e+02  1.80e-01]\n",
      " [ 1.00e+00 -1.36e+02  2.60e-01]\n",
      " ...\n",
      " [ 0.00e+00 -3.84e+02  9.80e-01]\n",
      " [ 0.00e+00 -4.00e+02  1.00e+00]\n",
      " [ 0.00e+00 -4.00e+02  1.00e+00]]\n"
     ]
    }
   ],
   "source": [
    "# Normalize data. Remove mean and divide with standard deviation\n",
    "def normalize(train_data, test_data):\n",
    "    '''\n",
    "    Normalize train_data and test_data using the mean and standard deviation from the \n",
    "    train_data set. This is as to not contaminate the test_data and introduce correlations. \n",
    "    '''\n",
    "    # Iterate over all columns in training data, and normalize all data using training data!\n",
    "    for i in range(1,2+1):\n",
    "        # We want to normalize columns 1 and 2 - not T, will be one-hot encoded!\n",
    "        mean = train_data[:,i].mean(axis=0)\n",
    "        std = train_data[:,i].std(axis=0)\n",
    "        assert (std-0) > 1e-5  # Check so standard deviation is not zero!\n",
    "        train_data[:,i] -= mean\n",
    "        train_data[:,i] /= std\n",
    "        test_data[:,i] -= mean\n",
    "        test_data[:,i] /= std\n",
    "    return train_data, test_data\n",
    "\n",
    "\n",
    "def data_split(data, train_fraction, seed):\n",
    "    '''Shuffle the dataset, and then split into two fractions'''\n",
    "    np.random.shuffle(data)  # Shuffles along the first dimension, i.e. along the row dimension. \n",
    "    # Split into two parts, with the train_set being train_frac\n",
    "    split_idx = int(data.shape[0]*train_fraction)\n",
    "    test_data = data[:split_idx]\n",
    "    train_data = data[split_idx:]\n",
    "    return train_data, test_data\n",
    "\n",
    "\n",
    "def one_hot_labels(data, Tc):\n",
    "    '''One hot encodes the first column in data. Use boolean expressions.'''\n",
    "    bool_arr = data[:,0] > Tc\n",
    "    data[:,0] = bool_arr\n",
    "    return data\n",
    "    \n",
    "    \n",
    "def prepare_data(full_data, Tc, train_fraction=0.3, seed=1):\n",
    "    '''\n",
    "    One-hot encodes T-column as 0 if T < Tc and 1 if T > Tc.  \n",
    "    Shuffles and splits the dataset into a training and a test set. \n",
    "    Finally normalizes the test and train sets using the train set.\n",
    "    '''\n",
    "    np.random.seed(seed)\n",
    "    data = np.copy(full_data) # Make a copy, as not to overwrite original data\n",
    "    data = one_hot_labels(data, Tc)  # One-hot encode labels\n",
    "    train_data, test_data = data_split(data, train_fraction, seed)  # Shuffle and split the dataset\n",
    "    train_data, test_data = normalize(train_data, test_data)\n",
    "    \n",
    "    return(train_data, test_data)\n",
    "    \n",
    "train_data, test_data = prepare_data(points_full, Tc, 0.3, seed=1)"
   ]
  },
  {
   "cell_type": "markdown",
   "metadata": {},
   "source": [
    "Create the neuron. The weight vector $w$ has shape $(n_{features})$, which in our case is 2, corresponding to $E$ and $|m|$. $b$ is our bias term for our neuron."
   ]
  },
  {
   "cell_type": "markdown",
   "metadata": {},
   "source": [
    "Our cost function is cross-entropy, with a regularizer term with weight $\\alpha$. With our sigmoid activation function, our cross-entropy for our $i$ instances of data becomes:\n",
    "\n",
    "$$ C(w) = - \\sum_i t_i \\log{\\frac{e^{w\\cdot x_i + b}}{1+e^{w\\cdot x_i + b}}} + (1-t_i) \\log \\left(1 + \\frac{e^{w\\cdot x_i + b}}{1+e^{w\\cdot x_i + b}} \\right) = $$\n",
    "\n",
    "$$ =  - \\sum_i t_i (w\\cdot x_i + b) - t_i \\log{\\left(1+e^{w\\cdot x_i + b}\\right)} + (1-t_i) \\log(1) - (1-t_i) \\log{\\left(1+e^{w\\cdot x_i + b}\\right)}$$ \n",
    "\n",
    "$$ = - \\sum_i t_i (w\\cdot x_i + b) - \\log{\\left(1+e^{w\\cdot x_i + b}\\right)}.$$\n",
    "\n",
    "If we take the gradient with regards to $b$, we obtain:\n",
    "\n",
    "$$ - \\sum_i t_i - \\frac{e^{w\\cdot x_i + b}}{1+e^{w\\cdot x_i + b}} = -\\sum_i t_i-y_i = - \\sum_i e_i,$$\n",
    "\n",
    "and if we take the gradient with regards to $w$ we obtain:\n",
    "\n",
    "$$ - \\sum_i t_i x_i - \\frac{x_i e^{w\\cdot x_i + b}}{1+e^{w\\cdot x_i + b}} = -\\sum_i x_i(t_i-y_i) = - \\vec{x}^T \\cdot \\vec{e} .$$\n",
    "\n",
    "We can summarize the total gradient in terms of the design matrix $X=(\\vec{1}, \\vec{E}, \\vec{m})$ of shape $(n_{instances}, n_{features})$:\n",
    "\n",
    "$$ \\nabla C = - \\vec{X}^T \\cdot \\vec{e} $$\n",
    "\n",
    "where  $e$ has shape $(n_instances)$. The contribution to both of these terms is the gradient of the regularizer:\n",
    "\n",
    "$$ E(w,b) = \\frac{1}{2} \\left( \\sum_i w_i^2 + b^2 \\right) => \\nabla E = \\vec{[b, w]},$$\n",
    "\n",
    "where $\\vec{[b, w]}$ is to be interpreted as bias term appended to the weight vector $w$. The total gradient is thus:\n",
    "\n",
    "$$ \\nabla C_w = - \\vec{X}^T \\cdot \\vec{e} + \\vec{[b, w]}.$$\n",
    "\n",
    "The shift to our weights is hence, with learning rate $eta$: \n",
    "\n",
    "$$ \\delta w = -\\eta \\nabla C_w = \\eta \\left(\\vec{X}^T \\cdot \\vec{e} - \\vec{[b, w]} \\right)$$"
   ]
  },
  {
   "cell_type": "code",
   "execution_count": 297,
   "metadata": {},
   "outputs": [
    {
     "name": "stdout",
     "output_type": "stream",
     "text": [
      "calc_accuracy passes unit tests: True\n"
     ]
    },
    {
     "data": {
      "application/vnd.jupyter.widget-view+json": {
       "model_id": "b9549da15d4c47eea5e01ee5361d528d",
       "version_major": 2,
       "version_minor": 0
      },
      "text/plain": [
       "HBox(children=(IntProgress(value=0, max=1000), HTML(value='')))"
      ]
     },
     "metadata": {},
     "output_type": "display_data"
    },
    {
     "name": "stderr",
     "output_type": "stream",
     "text": [
      "C:\\Users\\ericl\\Anaconda3\\envs\\physics\\lib\\site-packages\\ipykernel_launcher.py:28: RuntimeWarning: divide by zero encountered in log\n",
      "C:\\Users\\ericl\\Anaconda3\\envs\\physics\\lib\\site-packages\\ipykernel_launcher.py:28: RuntimeWarning: invalid value encountered in multiply\n"
     ]
    },
    {
     "name": "stdout",
     "output_type": "stream",
     "text": [
      "\n"
     ]
    },
    {
     "data": {
      "image/png": "[encoded data removed]",
      "text/plain": [
       "<Figure size 720x432 with 1 Axes>"
      ]
     },
     "metadata": {
      "needs_background": "light"
     },
     "output_type": "display_data"
    },
    {
     "data": {
      "image/png": "[encoded data removed]",
      "text/plain": [
       "<Figure size 720x432 with 1 Axes>"
      ]
     },
     "metadata": {
      "needs_background": "light"
     },
     "output_type": "display_data"
    }
   ],
   "source": [
    "def calc_accuracy(p, t):\n",
    "    '''Calculates the accuracy for prediction p compared to targets t.'''\n",
    "    nbr_correct = np.sum(np.around(p) == t)\n",
    "    return nbr_correct/len(p)\n",
    "\n",
    "# Test calc_accuracy\n",
    "p_test = [0.6, 0.4, 0.05, 1]\n",
    "t_test = [1, 1, 1, 1]\n",
    "print(f'calc_accuracy passes unit tests: {0.5 == calc_accuracy(p_test, t_test)}')\n",
    "    \n",
    "\n",
    "def sigmoid(a):\n",
    "    '''¨Returns the sigmoid value of the activation a.'''\n",
    "    return 1/(1+np.exp(-a))\n",
    "\n",
    "\n",
    "def feed_forward(x, w, b):\n",
    "    '''Performs the feed-forward pass for our neuron. Return the activation.'''\n",
    "    z = x@w + b\n",
    "    return sigmoid(z)  \n",
    "   \n",
    "\n",
    "def cost_function(y, t, b_w, alpha):\n",
    "    '''\n",
    "    Calculates the cost-function for output data y and labels t. \n",
    "    Also utilizes weight regularization.\n",
    "    '''\n",
    "    cost = - np.sum( t*np.log(y) + (1-t)*np.log(1-y) )\n",
    "    reg = 1/2 * np.sum(b_w**2)\n",
    "    return cost + alpha*reg\n",
    "    \n",
    "    \n",
    "def train_neuron(train_data, test_data, epochs=1000, batch_size=50, alpha=1, eta=0.01, seed=1):\n",
    "    '''Trains the neuron. Randomize weights and bias term. Use batch gradient descent.'''\n",
    "    # Set the seed\n",
    "    np.random.seed(seed)\n",
    "    # Randomize the weights\n",
    "    w = 100*np.random.uniform(size=2)  # TODO change start?\n",
    "    b = 100*np.random.uniform(size=1)\n",
    "    # Pick out the training data and the targets\n",
    "    x = train_data[:,1:]\n",
    "    t = train_data[:,0]\n",
    "    # Pick out the test data\n",
    "    x_test = test_data[:,1:]\n",
    "    t_test = test_data[:,0]\n",
    "    # Iterate over all instances of data\n",
    "    costs = []\n",
    "    train_accuracies = []\n",
    "    test_accuracies = []\n",
    "    for epoch in tqdm_notebook(range(epochs)):\n",
    "        # Train the network in epochs - one epoch goes through all the data\n",
    "        # Shuffle the x and t vectors at the beginning of each epoch\n",
    "        shuffle_idx = np.random.randint(0, len(x)-1, len(x))\n",
    "        x = x[shuffle_idx]\n",
    "        t = t[shuffle_idx]\n",
    "        # Split into batches of equal size\n",
    "        x_batches = np.array_split(x, batch_size)\n",
    "        t_batches = np.array_split(t, batch_size)\n",
    "        for idx, x_b in enumerate(x_batches):\n",
    "            x_b = np.expand_dims(x_b, -1)\n",
    "            t_b = t_batches[idx]\n",
    "            # Create design matrix\n",
    "            X = np.concatenate((x_b[:,0]**0, x_b[:,0], x_b[:,1]), axis=1)\n",
    "            # Squeeze x_i to remove unnecessary dimension\n",
    "            x_b = np.squeeze(x_b)\n",
    "            # Calculate the network output\n",
    "            y_b = feed_forward(x_b, w, b)\n",
    "            # Create vector of bias and weights\n",
    "            bias_and_weights = np.concatenate((b, w), axis=0)  # [b, w]\n",
    "            # Calculate the cost and do a prediction - for monitoring training\n",
    "            c_b = cost_function(y_b, t_b, bias_and_weights, alpha)\n",
    "            costs.append(c_b)\n",
    "            # Update to our weights - last term is from regularizer\n",
    "            delta_bias_and_weights = (X.T).dot(t_b-y_b) - alpha*bias_and_weights\n",
    "            # Update weights and biases\n",
    "            b += eta*delta_bias_and_weights[0]\n",
    "            w += eta*delta_bias_and_weights[1:]\n",
    "        # Do a predict on train data set, for monitoring training.\n",
    "        train_acc = calc_accuracy(feed_forward(x, w, b), t)\n",
    "        train_accuracies.append(train_acc)\n",
    "        test_acc = calc_accuracy(feed_forward(x_test, w, b), t_test)\n",
    "        test_accuracies.append(test_acc)\n",
    "        # TODO add losses?\n",
    "        \n",
    "    fig1, ax1 = plt.subplots(figsize=(10,6))\n",
    "    ax1.plot(np.log(costs))\n",
    "    ax1.set_ylabel(r'log(cost)')\n",
    "    ax1.set_xlabel(r'Iterations')\n",
    "    ax1.grid()\n",
    "    \n",
    "    fig2, ax2 = plt.subplots(figsize=(10,6))\n",
    "    ax2.plot(train_accuracies, label='Training accuracy')\n",
    "    ax2.plot(test_accuracies, label='Test accuracy')\n",
    "    ax2.set_xlabel(\"Epoch\")\n",
    "    ax2.set_ylabel(\"Accuracy\")\n",
    "    ax2.legend(loc='best')\n",
    "    ax2.grid()\n",
    "    \n",
    "train_neuron(train_data, test_data)"
   ]
  },
  {
   "cell_type": "markdown",
   "metadata": {},
   "source": [
    "#### The neuron converges, but note that it is unstable. The converges is heavily dependent on seed, batch size and number of epochs. "
   ]
  },
  {
   "cell_type": "code",
   "execution_count": null,
   "metadata": {},
   "outputs": [],
   "source": []
  }
 ],
 "metadata": {
  "kernelspec": {
   "display_name": "Python 3",
   "language": "python",
   "name": "python3"
  },
  "language_info": {
   "codemirror_mode": {
    "name": "ipython",
    "version": 3
   },
   "file_extension": ".py",
   "mimetype": "text/x-python",
   "name": "python",
   "nbconvert_exporter": "python",
   "pygments_lexer": "ipython3",
   "version": "3.7.4"
  }
 },
 "nbformat": 4,
 "nbformat_minor": 2
}
