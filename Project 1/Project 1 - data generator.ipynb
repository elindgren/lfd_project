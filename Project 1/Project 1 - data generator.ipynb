{
 "cells": [
  {
   "cell_type": "code",
   "execution_count": 1,
   "metadata": {},
   "outputs": [],
   "source": [
    "# Standard libraries\n",
    "import sys\n",
    "import pickle\n",
    "\n",
    "# Third party\n",
    "import numpy as np\n",
    "import matplotlib.pyplot as plt"
   ]
  },
  {
   "cell_type": "markdown",
   "metadata": {},
   "source": [
    "## Functions"
   ]
  },
  {
   "cell_type": "code",
   "execution_count": 2,
   "metadata": {},
   "outputs": [
    {
     "name": "stdout",
     "output_type": "stream",
     "text": [
      "Return none if invalid x: [False False]\n",
      "Return values if ok x: [ True  True]\n"
     ]
    }
   ],
   "source": [
    "# Load dataset\n",
    "def load_data(file):\n",
    "    d = {\n",
    "        \"x\": [],\n",
    "        \"d\": [],\n",
    "        \"sigma\": []\n",
    "    }\n",
    "    # Skip first two rows, which are the header:\n",
    "    with open(file) as f:\n",
    "        for idx,line in enumerate(f):\n",
    "            if idx < 3:\n",
    "                pass\n",
    "            else:\n",
    "                val = line.split()\n",
    "                d[\"x\"].append(np.float(val[0]))\n",
    "                d[\"d\"].append(np.float(val[1]))\n",
    "                d[\"sigma\"].append(np.float(val[2]))\n",
    "    # cast to numpy arrays\n",
    "    d[\"x\"] = np.array(d[\"x\"])\n",
    "    d[\"d\"] = np.array(d[\"d\"])\n",
    "    d[\"sigma\"] = np.array(d[\"sigma\"])\n",
    "    return d\n",
    "\n",
    "def exact_data(x):\n",
    "    '''Returns exact data using the given function'''\n",
    "    return (1/2+np.tan(np.pi/2*x))**2\n",
    "    \n",
    "def add_noise(g, c):\n",
    "    '''Add noise from a standard normal distribution to exact data'''\n",
    "    random_vector = np.random.normal(loc=0, scale=1, size=len(g))\n",
    "    sigma = np.abs(g*c*random_vector)\n",
    "    \n",
    "    return g*(1+c*random_vector), sigma\n",
    "\n",
    "# Tests\n",
    "x_f = np.array([0.1, 0.4])\n",
    "x_ok = np.array([0.1, 0.2])\n",
    "g_f = exact_data(x_f)\n",
    "g_ok = np.round(exact_data(x_ok),4)\n",
    "print(f'Return none if invalid x: {None == g_f}')\n",
    "print(f'Return values if ok x: {[0.4335, 0.6805] == g_ok}')"
   ]
  },
  {
   "cell_type": "code",
   "execution_count": 3,
   "metadata": {},
   "outputs": [
    {
     "data": {
      "text/plain": [
       "{'x': array([0.03183, 0.06366, 0.09549, 0.12732, 0.15915, 0.19099, 0.22282,\n",
       "        0.25465, 0.28648, 0.31831]),\n",
       " 'd': array([0.31694, 0.33844, 0.42142, 0.57709, 0.56218, 0.68851, 0.73625,\n",
       "        0.8727 , 1.0015 , 1.0684 ]),\n",
       " 'sigma': array([0.01585 , 0.01692 , 0.02107 , 0.02885 , 0.02811 , 0.03443 ,\n",
       "        0.03681 , 0.04364 , 0.050075, 0.05342 ])}"
      ]
     },
     "metadata": {},
     "output_type": "display_data"
    }
   ],
   "source": [
    "# Load given original data\n",
    "file = 'D1_c_5.dat'\n",
    "data = load_data(file)\n",
    "x = data['x']\n",
    "d = data['d']\n",
    "sigma = data['sigma']\n",
    "display(data)"
   ]
  },
  {
   "cell_type": "code",
   "execution_count": 4,
   "metadata": {},
   "outputs": [
    {
     "ename": "NameError",
     "evalue": "name 'sigma_low_noise' is not defined",
     "output_type": "error",
     "traceback": [
      "\u001b[0;31m---------------------------------------------------------------------------\u001b[0m",
      "\u001b[0;31mNameError\u001b[0m                                 Traceback (most recent call last)",
      "\u001b[0;32m<ipython-input-4-4571b3103532>\u001b[0m in \u001b[0;36m<module>\u001b[0;34m\u001b[0m\n\u001b[0;32m----> 1\u001b[0;31m \u001b[0mprint\u001b[0m\u001b[0;34m(\u001b[0m\u001b[0msigma_low_noise\u001b[0m\u001b[0;34m)\u001b[0m\u001b[0;34m\u001b[0m\u001b[0;34m\u001b[0m\u001b[0m\n\u001b[0m",
      "\u001b[0;31mNameError\u001b[0m: name 'sigma_low_noise' is not defined"
     ]
    }
   ],
   "source": [
    "print(sigma_low_noise)"
   ]
  },
  {
   "cell_type": "code",
   "execution_count": 36,
   "metadata": {},
   "outputs": [
    {
     "data": {
      "image/png": "[encoded data removed]",
      "text/plain": [
       "<Figure size 936x432 with 2 Axes>"
      ]
     },
     "metadata": {
      "needs_background": "light"
     },
     "output_type": "display_data"
    }
   ],
   "source": [
    "# Create new data with different noise levels\n",
    "initial_noise_level = 0.05\n",
    "noise_level_low = 0.05 / 5\n",
    "noise_level_high = 0.05 * 5\n",
    "\n",
    "true_x = np.arange(x.min(), x.max()+0.01, 0.01)\n",
    "true_function = exact_data(true_x)\n",
    "\n",
    "g = exact_data(x)\n",
    "d_low_noise, sigma_low_noise = add_noise(g, noise_level_low)\n",
    "d_high_noise, sigma_high_noise = add_noise(g, noise_level_high)\n",
    "\n",
    "low_noise_data = {'x': x, 'd': d_low_noise, 'sigma': sigma_low_noise}\n",
    "high_noise_data = {'x': x, 'd': d_high_noise, 'sigma': sigma_high_noise}\n",
    "\n",
    "# Plot the new data\n",
    "fig, (ax1, ax2) = plt.subplots(1, 2, figsize=(13,6))\n",
    "\n",
    "ax1.plot(true_x, true_function, color='blue', label='True functions')\n",
    "ax1.errorbar(x, d_low_noise, yerr=sigma_low_noise, color='cyan', marker='o', linestyle='None', label='Data')\n",
    "ax1.set_xlabel(r'$x$')\n",
    "ax1.set_ylabel(r'$g(x)$')\n",
    "ax1.set_xlim(0, 0.4)\n",
    "ax1.set_ylim(0, 1.6)\n",
    "ax1.legend(loc='best')\n",
    "\n",
    "ax2.plot(true_x, true_function, color='blue', label='True functions')\n",
    "ax2.errorbar(x, d_high_noise, yerr=sigma_high_noise, color='cyan', marker='o', linestyle='None', label='Data')\n",
    "ax2.set_xlabel(r'$x$')\n",
    "ax2.set_ylabel(r'$g(x)$')\n",
    "ax2.set_xlim(0, 0.4)\n",
    "ax2.set_ylim(0, 1.6)\n",
    "ax2.legend(loc='best')\n",
    "\n",
    "plt.show()"
   ]
  },
  {
   "cell_type": "code",
   "execution_count": 38,
   "metadata": {},
   "outputs": [
    {
     "name": "stderr",
     "output_type": "stream",
     "text": [
      "/home/simon/anaconda3/envs/python3/lib/python3.7/site-packages/ipykernel_launcher.py:6: DeprecationWarning: object of type <class 'float'> cannot be safely interpreted as an integer.\n",
      "  \n"
     ]
    },
    {
     "data": {
      "image/png": "[encoded data removed]",
      "text/plain": [
       "<Figure size 936x432 with 2 Axes>"
      ]
     },
     "metadata": {
      "needs_background": "light"
     },
     "output_type": "display_data"
    }
   ],
   "source": [
    "# Create new datasets with different quantities\n",
    "initial_quantity = x.shape[0]\n",
    "low_quantity = initial_quantity / 2\n",
    "high_quantity = initial_quantity * 2\n",
    "\n",
    "x_low_quantity = np.linspace(x.min(), x.max(), low_quantity)\n",
    "x_high_quantity = np.linspace(x.min(), x.max(), high_quantity)\n",
    "\n",
    "d_low_quantity, sigma_low_quantity = add_noise(exact_data(x_low_quantity), initial_noise_level)\n",
    "d_high_quantity, sigma_high_quantity = add_noise(exact_data(x_high_quantity), initial_noise_level)\n",
    "\n",
    "low_quantity_data = {'x': x_low_quantity, 'd': d_low_quantity, 'sigma': sigma_low_quantity}\n",
    "high_quantity_data = {'x': x_high_quantity, 'd': d_high_quantity, 'sigma': sigma_high_quantity}\n",
    "\n",
    "# Plot the new data\n",
    "fig, (ax1, ax2) = plt.subplots(1, 2, figsize=(13,6))\n",
    "\n",
    "ax1.plot(true_x, true_function, color='blue', label='True functions')\n",
    "ax1.errorbar(x_low_quantity, d_low_quantity, yerr=sigma_low_quantity, color='cyan', marker='o', linestyle='None', label='Data')\n",
    "ax1.set_xlabel(r'$x$')\n",
    "ax1.set_ylabel(r'$g(x)$')\n",
    "ax1.set_xlim(0, 0.4)\n",
    "ax1.set_ylim(0, 1.6)\n",
    "ax1.legend(loc='best')\n",
    "\n",
    "ax2.plot(true_x, true_function, color='blue', label='True functions')\n",
    "ax2.errorbar(x_high_quantity, d_high_quantity, yerr=sigma_high_quantity, color='cyan', marker='o', linestyle='None', label='Data')\n",
    "ax2.set_xlabel(r'$x$')\n",
    "ax2.set_ylabel(r'$g(x)$')\n",
    "ax2.set_xlim(0, 0.4)\n",
    "ax2.set_ylim(0, 1.6)\n",
    "ax2.legend(loc='best')\n",
    "\n",
    "plt.show()"
   ]
  },
  {
   "cell_type": "code",
   "execution_count": 39,
   "metadata": {},
   "outputs": [],
   "source": [
    "# Save generated data\n",
    "pickle.dump(low_noise_data, open('low_noise_data.pkl', 'wb'))\n",
    "pickle.dump(high_noise_data, open('high_noise_data.pkl', 'wb'))\n",
    "pickle.dump(low_quantity_data, open('low_quantity_data.pkl', 'wb'))\n",
    "pickle.dump(high_quantity_data, open('high_quantity_data.pkl', 'wb'))"
   ]
  }
 ],
 "metadata": {
  "kernelspec": {
   "display_name": "Python [conda env:python3] *",
   "language": "python",
   "name": "conda-env-python3-py"
  },
  "language_info": {
   "codemirror_mode": {
    "name": "ipython",
    "version": 3
   },
   "file_extension": ".py",
   "mimetype": "text/x-python",
   "name": "python",
   "nbconvert_exporter": "python",
   "pygments_lexer": "ipython3",
   "version": "3.7.3"
  }
 },
 "nbformat": 4,
 "nbformat_minor": 2
}
